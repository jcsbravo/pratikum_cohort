{
  "cells": [
    {
      "cell_type": "markdown",
      "id": "5eff17eb",
      "metadata": {
        "id": "5eff17eb"
      },
      "source": [
        "Task_2\n",
        "\n",
        "Download the event_data.csv dataset, which contains data on the use of the mobile application of users who registered from July 29 to September 1, 2019: • user_id - user identifier; • event_date - time of the event; • event_type - type of event: registration - registration in the application; simple_event - click event in the application; purchase - an event of purchase within the application; purchase_amount - purchase amount.\n",
        "\n",
        "Highlight user cohorts based on the week of registration in the application. The cohort identifier should be the week ordinal (for example, the week from July 29 to August 4 should have identifier 31).\n",
        "\n",
        "How many unique users in the cohort with ID 33?\n",
        "\n",
        "For each event, highlight the indicator lifetime - the weekly lifetime of the cohort. The lifetime indicator is calculated based on the serial number of the week in which the event is committed, relative to the week of registration. For example, an event committed on August 3 by a user from a cohort of registrants at 31 weeks will be committed on the zero week of lifetime, and an event committed by the same user on August 5 will be committed on the first week of lifetime).\n",
        "\n",
        "Build a summary table of changes in the Retention Rate for cohorts depending on lifetime.\n",
        "\n",
        "What is the 3 week retention rate for a cohort with ID 32? Give the answer in percent, rounded to 2 decimal places, inclusive.\n",
        "\n",
        "Build a summary table of changes in the indicator ARPPU (Average Revenue Per Paying User) for cohorts depending on lifetime.\n",
        "\n",
        "What is the 3-week ARPPU of a cohort with ID 31? Give the answer with a floating point number, rounded to 2 decimal places, inclusive.\n",
        "\n",
        "What is the median time between user registration and first purchase? Give the answer in seconds (!) As an integer."
      ]
    },
    {
      "cell_type": "code",
      "execution_count": null,
      "id": "d1ccce11",
      "metadata": {
        "id": "d1ccce11",
        "outputId": "5eed1358-b004-40b0-a57e-7932639febbe"
      },
      "outputs": [
        {
          "name": "stdout",
          "output_type": "stream",
          "text": [
            "3.9.7\n"
          ]
        }
      ],
      "source": [
        "# Python version\n",
        "from platform import python_version\n",
        "print(python_version())"
      ]
    },
    {
      "cell_type": "code",
      "execution_count": null,
      "id": "203ee3bd",
      "metadata": {
        "id": "203ee3bd",
        "outputId": "5edbb1e9-4170-4431-80c0-c74c547ecdb3"
      },
      "outputs": [
        {
          "name": "stdout",
          "output_type": "stream",
          "text": [
            "C:\\Users\\User\\anaconda3\\python.exe\n",
            "3.9.7 (default, Sep 16 2021, 16:59:28) [MSC v.1916 64 bit (AMD64)]\n",
            "sys.version_info(major=3, minor=9, micro=7, releaselevel='final', serial=0)\n"
          ]
        }
      ],
      "source": [
        "import sys\n",
        "print(sys.executable)\n",
        "print(sys.version)\n",
        "print(sys.version_info)"
      ]
    },
    {
      "cell_type": "code",
      "execution_count": null,
      "id": "2c8027e9",
      "metadata": {
        "id": "2c8027e9"
      },
      "outputs": [],
      "source": [
        "# To update a package, run the command below in a terminal or command prompt:\n",
        "# pip install -U package_name\n",
        "\n",
        "# To install the exact version of a package, run the command below in a terminal or command prompt:\n",
        "# !pip install package_name==desired_version\n",
        "\n",
        "# After installing or updating the package, restart the jupyter notebook.\n",
        "\n",
        "# Install the watermark package.\n",
        "# This package is used to write versions of other packages used in this jupyter notebook.\n",
        "!pip install -q -U watermark"
      ]
    },
    {
      "cell_type": "code",
      "execution_count": null,
      "id": "229bc3be",
      "metadata": {
        "id": "229bc3be"
      },
      "outputs": [],
      "source": [
        "# import libraries \n",
        "import pandas as pd\n",
        "import datetime as dt\n",
        "import seaborn as sns\n",
        "import matplotlib.pyplot as plt\n",
        "import numpy as np"
      ]
    },
    {
      "cell_type": "code",
      "execution_count": null,
      "id": "39b138e7",
      "metadata": {
        "id": "39b138e7",
        "outputId": "b31c703e-7e3d-4166-c3a5-60dc58321f44"
      },
      "outputs": [
        {
          "name": "stdout",
          "output_type": "stream",
          "text": [
            "Author: Praktikum Project\n",
            "\n",
            "matplotlib: 3.4.3\n",
            "pandas    : 1.4.2\n",
            "seaborn   : 0.11.2\n",
            "sys       : 3.9.7 (default, Sep 16 2021, 16:59:28) [MSC v.1916 64 bit (AMD64)]\n",
            "numpy     : 1.22.3\n",
            "\n"
          ]
        }
      ],
      "source": [
        "# Package versions used in this jupyter notebook\n",
        "%reload_ext watermark\n",
        "%watermark -a \"Praktikum Project\" --iversions"
      ]
    },
    {
      "cell_type": "markdown",
      "id": "49440581",
      "metadata": {
        "id": "49440581"
      },
      "source": [
        "# 1 - Download the event_data.csv dataset, which contains data on the use of the mobile application of users who registered from July 29 to September 1, 2019:• user_id - user identifier; • event_date - time of the event; • event_type - type of event: registration - registration in the application; simple_event - click event in the application; purchase -an event of purchase within the application; purchase_amount - purchase amount."
      ]
    },
    {
      "cell_type": "code",
      "execution_count": null,
      "id": "779b02dc",
      "metadata": {
        "id": "779b02dc"
      },
      "outputs": [],
      "source": [
        "event_data = pd.read_csv('event_data.csv')"
      ]
    },
    {
      "cell_type": "code",
      "execution_count": null,
      "id": "fe8b3002",
      "metadata": {
        "id": "fe8b3002"
      },
      "outputs": [],
      "source": [
        "################################################################################################################################"
      ]
    },
    {
      "cell_type": "code",
      "execution_count": null,
      "id": "7f8717c4",
      "metadata": {
        "id": "7f8717c4",
        "outputId": "f8b51056-f223-4eca-fd55-02026dd53fb7"
      },
      "outputs": [
        {
          "data": {
            "text/plain": [
              "(79742, 4)"
            ]
          },
          "execution_count": 8,
          "metadata": {},
          "output_type": "execute_result"
        }
      ],
      "source": [
        "event_data.shape"
      ]
    },
    {
      "cell_type": "code",
      "execution_count": null,
      "id": "49b661da",
      "metadata": {
        "id": "49b661da",
        "outputId": "837847da-e0a2-4697-a0fb-bed607fab565"
      },
      "outputs": [
        {
          "data": {
            "text/html": [
              "<div>\n",
              "<style scoped>\n",
              "    .dataframe tbody tr th:only-of-type {\n",
              "        vertical-align: middle;\n",
              "    }\n",
              "\n",
              "    .dataframe tbody tr th {\n",
              "        vertical-align: top;\n",
              "    }\n",
              "\n",
              "    .dataframe thead th {\n",
              "        text-align: right;\n",
              "    }\n",
              "</style>\n",
              "<table border=\"1\" class=\"dataframe\">\n",
              "  <thead>\n",
              "    <tr style=\"text-align: right;\">\n",
              "      <th></th>\n",
              "      <th>user_id</th>\n",
              "      <th>event_date</th>\n",
              "      <th>event_type</th>\n",
              "      <th>purchase_amount</th>\n",
              "    </tr>\n",
              "  </thead>\n",
              "  <tbody>\n",
              "    <tr>\n",
              "      <th>0</th>\n",
              "      <td>c40e6a</td>\n",
              "      <td>2019-07-29 00:02:15</td>\n",
              "      <td>registration</td>\n",
              "      <td>NaN</td>\n",
              "    </tr>\n",
              "    <tr>\n",
              "      <th>1</th>\n",
              "      <td>a2b682</td>\n",
              "      <td>2019-07-29 00:04:46</td>\n",
              "      <td>registration</td>\n",
              "      <td>NaN</td>\n",
              "    </tr>\n",
              "  </tbody>\n",
              "</table>\n",
              "</div>"
            ],
            "text/plain": [
              "  user_id           event_date    event_type  purchase_amount\n",
              "0  c40e6a  2019-07-29 00:02:15  registration              NaN\n",
              "1  a2b682  2019-07-29 00:04:46  registration              NaN"
            ]
          },
          "execution_count": 9,
          "metadata": {},
          "output_type": "execute_result"
        }
      ],
      "source": [
        "event_data.head(2)"
      ]
    },
    {
      "cell_type": "code",
      "execution_count": null,
      "id": "2e57139b",
      "metadata": {
        "scrolled": true,
        "id": "2e57139b",
        "outputId": "91059e2f-1ba0-4713-b332-e9f32a6c9c70"
      },
      "outputs": [
        {
          "data": {
            "text/html": [
              "<div>\n",
              "<style scoped>\n",
              "    .dataframe tbody tr th:only-of-type {\n",
              "        vertical-align: middle;\n",
              "    }\n",
              "\n",
              "    .dataframe tbody tr th {\n",
              "        vertical-align: top;\n",
              "    }\n",
              "\n",
              "    .dataframe thead th {\n",
              "        text-align: right;\n",
              "    }\n",
              "</style>\n",
              "<table border=\"1\" class=\"dataframe\">\n",
              "  <thead>\n",
              "    <tr style=\"text-align: right;\">\n",
              "      <th></th>\n",
              "      <th>user_id</th>\n",
              "      <th>event_date</th>\n",
              "      <th>event_type</th>\n",
              "      <th>purchase_amount</th>\n",
              "    </tr>\n",
              "  </thead>\n",
              "  <tbody>\n",
              "    <tr>\n",
              "      <th>79740</th>\n",
              "      <td>1c2210</td>\n",
              "      <td>2019-09-01 23:59:51</td>\n",
              "      <td>simple_event</td>\n",
              "      <td>NaN</td>\n",
              "    </tr>\n",
              "    <tr>\n",
              "      <th>79741</th>\n",
              "      <td>d799dc</td>\n",
              "      <td>2019-09-01 23:59:54</td>\n",
              "      <td>simple_event</td>\n",
              "      <td>NaN</td>\n",
              "    </tr>\n",
              "  </tbody>\n",
              "</table>\n",
              "</div>"
            ],
            "text/plain": [
              "      user_id           event_date    event_type  purchase_amount\n",
              "79740  1c2210  2019-09-01 23:59:51  simple_event              NaN\n",
              "79741  d799dc  2019-09-01 23:59:54  simple_event              NaN"
            ]
          },
          "execution_count": 10,
          "metadata": {},
          "output_type": "execute_result"
        }
      ],
      "source": [
        "event_data.tail(2)"
      ]
    },
    {
      "cell_type": "code",
      "execution_count": null,
      "id": "376575d1",
      "metadata": {
        "id": "376575d1",
        "outputId": "317685ed-2de3-43ac-d8ec-97a8828da022"
      },
      "outputs": [
        {
          "name": "stdout",
          "output_type": "stream",
          "text": [
            "<class 'pandas.core.frame.DataFrame'>\n",
            "RangeIndex: 79742 entries, 0 to 79741\n",
            "Data columns (total 4 columns):\n",
            " #   Column           Non-Null Count  Dtype  \n",
            "---  ------           --------------  -----  \n",
            " 0   user_id          79742 non-null  object \n",
            " 1   event_date       79742 non-null  object \n",
            " 2   event_type       79742 non-null  object \n",
            " 3   purchase_amount  6207 non-null   float64\n",
            "dtypes: float64(1), object(3)\n",
            "memory usage: 2.4+ MB\n"
          ]
        }
      ],
      "source": [
        "event_data.info()"
      ]
    },
    {
      "cell_type": "code",
      "execution_count": null,
      "id": "daf83dfc",
      "metadata": {
        "id": "daf83dfc"
      },
      "outputs": [],
      "source": [
        "event_data[\"event_date\"] = pd.to_datetime(event_data[\"event_date\"])"
      ]
    },
    {
      "cell_type": "code",
      "execution_count": null,
      "id": "7adf8f6c",
      "metadata": {
        "id": "7adf8f6c",
        "outputId": "6824d44d-54dd-4d93-f85d-5e85701f4be0"
      },
      "outputs": [
        {
          "name": "stdout",
          "output_type": "stream",
          "text": [
            "<class 'pandas.core.frame.DataFrame'>\n",
            "RangeIndex: 79742 entries, 0 to 79741\n",
            "Data columns (total 4 columns):\n",
            " #   Column           Non-Null Count  Dtype         \n",
            "---  ------           --------------  -----         \n",
            " 0   user_id          79742 non-null  object        \n",
            " 1   event_date       79742 non-null  datetime64[ns]\n",
            " 2   event_type       79742 non-null  object        \n",
            " 3   purchase_amount  6207 non-null   float64       \n",
            "dtypes: datetime64[ns](1), float64(1), object(2)\n",
            "memory usage: 2.4+ MB\n"
          ]
        }
      ],
      "source": [
        "#check\n",
        "event_data.info()"
      ]
    },
    {
      "cell_type": "markdown",
      "id": "3f82ad10",
      "metadata": {
        "id": "3f82ad10"
      },
      "source": [
        "# 2 - Highlight user cohorts based on the week of registration in the application. The cohort identifier should be the week ordinal (for example, the week from July 29 to August 4 should have identifier 31)."
      ]
    },
    {
      "cell_type": "code",
      "execution_count": null,
      "id": "a866996e",
      "metadata": {
        "id": "a866996e"
      },
      "outputs": [],
      "source": [
        "event_data['event_date'] = pd.to_datetime(event_data['event_date'], format='%Y-%m-%d %H:%M:%S')\n",
        "event_data['week'] = [int(i) + 1 for i in event_data['event_date'].dt.strftime('%W')]"
      ]
    },
    {
      "cell_type": "code",
      "execution_count": null,
      "id": "e484e3b1",
      "metadata": {
        "id": "e484e3b1",
        "outputId": "a36380af-170d-4085-e61b-9311a0c11acb"
      },
      "outputs": [
        {
          "data": {
            "text/html": [
              "<div>\n",
              "<style scoped>\n",
              "    .dataframe tbody tr th:only-of-type {\n",
              "        vertical-align: middle;\n",
              "    }\n",
              "\n",
              "    .dataframe tbody tr th {\n",
              "        vertical-align: top;\n",
              "    }\n",
              "\n",
              "    .dataframe thead th {\n",
              "        text-align: right;\n",
              "    }\n",
              "</style>\n",
              "<table border=\"1\" class=\"dataframe\">\n",
              "  <thead>\n",
              "    <tr style=\"text-align: right;\">\n",
              "      <th></th>\n",
              "      <th>user_id</th>\n",
              "      <th>event_date</th>\n",
              "      <th>event_type</th>\n",
              "      <th>purchase_amount</th>\n",
              "      <th>week</th>\n",
              "    </tr>\n",
              "  </thead>\n",
              "  <tbody>\n",
              "    <tr>\n",
              "      <th>0</th>\n",
              "      <td>c40e6a</td>\n",
              "      <td>2019-07-29 00:02:15</td>\n",
              "      <td>registration</td>\n",
              "      <td>NaN</td>\n",
              "      <td>31</td>\n",
              "    </tr>\n",
              "    <tr>\n",
              "      <th>1</th>\n",
              "      <td>a2b682</td>\n",
              "      <td>2019-07-29 00:04:46</td>\n",
              "      <td>registration</td>\n",
              "      <td>NaN</td>\n",
              "      <td>31</td>\n",
              "    </tr>\n",
              "    <tr>\n",
              "      <th>2</th>\n",
              "      <td>9ac888</td>\n",
              "      <td>2019-07-29 00:13:22</td>\n",
              "      <td>registration</td>\n",
              "      <td>NaN</td>\n",
              "      <td>31</td>\n",
              "    </tr>\n",
              "    <tr>\n",
              "      <th>3</th>\n",
              "      <td>93ff22</td>\n",
              "      <td>2019-07-29 00:16:47</td>\n",
              "      <td>registration</td>\n",
              "      <td>NaN</td>\n",
              "      <td>31</td>\n",
              "    </tr>\n",
              "    <tr>\n",
              "      <th>4</th>\n",
              "      <td>65ef85</td>\n",
              "      <td>2019-07-29 00:19:23</td>\n",
              "      <td>registration</td>\n",
              "      <td>NaN</td>\n",
              "      <td>31</td>\n",
              "    </tr>\n",
              "    <tr>\n",
              "      <th>...</th>\n",
              "      <td>...</td>\n",
              "      <td>...</td>\n",
              "      <td>...</td>\n",
              "      <td>...</td>\n",
              "      <td>...</td>\n",
              "    </tr>\n",
              "    <tr>\n",
              "      <th>79737</th>\n",
              "      <td>930c23</td>\n",
              "      <td>2019-09-01 23:57:41</td>\n",
              "      <td>simple_event</td>\n",
              "      <td>NaN</td>\n",
              "      <td>35</td>\n",
              "    </tr>\n",
              "    <tr>\n",
              "      <th>79738</th>\n",
              "      <td>a84999</td>\n",
              "      <td>2019-09-01 23:57:50</td>\n",
              "      <td>simple_event</td>\n",
              "      <td>NaN</td>\n",
              "      <td>35</td>\n",
              "    </tr>\n",
              "    <tr>\n",
              "      <th>79739</th>\n",
              "      <td>175e4d</td>\n",
              "      <td>2019-09-01 23:59:40</td>\n",
              "      <td>simple_event</td>\n",
              "      <td>NaN</td>\n",
              "      <td>35</td>\n",
              "    </tr>\n",
              "    <tr>\n",
              "      <th>79740</th>\n",
              "      <td>1c2210</td>\n",
              "      <td>2019-09-01 23:59:51</td>\n",
              "      <td>simple_event</td>\n",
              "      <td>NaN</td>\n",
              "      <td>35</td>\n",
              "    </tr>\n",
              "    <tr>\n",
              "      <th>79741</th>\n",
              "      <td>d799dc</td>\n",
              "      <td>2019-09-01 23:59:54</td>\n",
              "      <td>simple_event</td>\n",
              "      <td>NaN</td>\n",
              "      <td>35</td>\n",
              "    </tr>\n",
              "  </tbody>\n",
              "</table>\n",
              "<p>79742 rows × 5 columns</p>\n",
              "</div>"
            ],
            "text/plain": [
              "      user_id          event_date    event_type  purchase_amount  week\n",
              "0      c40e6a 2019-07-29 00:02:15  registration              NaN    31\n",
              "1      a2b682 2019-07-29 00:04:46  registration              NaN    31\n",
              "2      9ac888 2019-07-29 00:13:22  registration              NaN    31\n",
              "3      93ff22 2019-07-29 00:16:47  registration              NaN    31\n",
              "4      65ef85 2019-07-29 00:19:23  registration              NaN    31\n",
              "...       ...                 ...           ...              ...   ...\n",
              "79737  930c23 2019-09-01 23:57:41  simple_event              NaN    35\n",
              "79738  a84999 2019-09-01 23:57:50  simple_event              NaN    35\n",
              "79739  175e4d 2019-09-01 23:59:40  simple_event              NaN    35\n",
              "79740  1c2210 2019-09-01 23:59:51  simple_event              NaN    35\n",
              "79741  d799dc 2019-09-01 23:59:54  simple_event              NaN    35\n",
              "\n",
              "[79742 rows x 5 columns]"
            ]
          },
          "execution_count": 15,
          "metadata": {},
          "output_type": "execute_result"
        }
      ],
      "source": [
        "event_data"
      ]
    },
    {
      "cell_type": "code",
      "execution_count": null,
      "id": "23b1c0a1",
      "metadata": {
        "id": "23b1c0a1"
      },
      "outputs": [],
      "source": [
        "event_data_cohort = event_data[event_data['event_type'] == 'registration']\n",
        "event_data_cohort = event_data_cohort[['user_id', 'week']]\n",
        "event_data_cohort.columns= ['user_id', 'cohort_identifier']"
      ]
    },
    {
      "cell_type": "code",
      "execution_count": null,
      "id": "68562980",
      "metadata": {
        "id": "68562980",
        "outputId": "763af346-f696-46b4-b596-1e59f3f51f48"
      },
      "outputs": [
        {
          "data": {
            "text/html": [
              "<div>\n",
              "<style scoped>\n",
              "    .dataframe tbody tr th:only-of-type {\n",
              "        vertical-align: middle;\n",
              "    }\n",
              "\n",
              "    .dataframe tbody tr th {\n",
              "        vertical-align: top;\n",
              "    }\n",
              "\n",
              "    .dataframe thead th {\n",
              "        text-align: right;\n",
              "    }\n",
              "</style>\n",
              "<table border=\"1\" class=\"dataframe\">\n",
              "  <thead>\n",
              "    <tr style=\"text-align: right;\">\n",
              "      <th></th>\n",
              "      <th>user_id</th>\n",
              "      <th>cohort_identifier</th>\n",
              "    </tr>\n",
              "  </thead>\n",
              "  <tbody>\n",
              "    <tr>\n",
              "      <th>0</th>\n",
              "      <td>c40e6a</td>\n",
              "      <td>31</td>\n",
              "    </tr>\n",
              "    <tr>\n",
              "      <th>1</th>\n",
              "      <td>a2b682</td>\n",
              "      <td>31</td>\n",
              "    </tr>\n",
              "    <tr>\n",
              "      <th>2</th>\n",
              "      <td>9ac888</td>\n",
              "      <td>31</td>\n",
              "    </tr>\n",
              "    <tr>\n",
              "      <th>3</th>\n",
              "      <td>93ff22</td>\n",
              "      <td>31</td>\n",
              "    </tr>\n",
              "    <tr>\n",
              "      <th>4</th>\n",
              "      <td>65ef85</td>\n",
              "      <td>31</td>\n",
              "    </tr>\n",
              "    <tr>\n",
              "      <th>...</th>\n",
              "      <td>...</td>\n",
              "      <td>...</td>\n",
              "    </tr>\n",
              "    <tr>\n",
              "      <th>79697</th>\n",
              "      <td>a7c20c</td>\n",
              "      <td>35</td>\n",
              "    </tr>\n",
              "    <tr>\n",
              "      <th>79703</th>\n",
              "      <td>03e836</td>\n",
              "      <td>35</td>\n",
              "    </tr>\n",
              "    <tr>\n",
              "      <th>79710</th>\n",
              "      <td>fb0e00</td>\n",
              "      <td>35</td>\n",
              "    </tr>\n",
              "    <tr>\n",
              "      <th>79712</th>\n",
              "      <td>46b4f8</td>\n",
              "      <td>35</td>\n",
              "    </tr>\n",
              "    <tr>\n",
              "      <th>79716</th>\n",
              "      <td>48b765</td>\n",
              "      <td>35</td>\n",
              "    </tr>\n",
              "  </tbody>\n",
              "</table>\n",
              "<p>9996 rows × 2 columns</p>\n",
              "</div>"
            ],
            "text/plain": [
              "      user_id  cohort_identifier\n",
              "0      c40e6a                 31\n",
              "1      a2b682                 31\n",
              "2      9ac888                 31\n",
              "3      93ff22                 31\n",
              "4      65ef85                 31\n",
              "...       ...                ...\n",
              "79697  a7c20c                 35\n",
              "79703  03e836                 35\n",
              "79710  fb0e00                 35\n",
              "79712  46b4f8                 35\n",
              "79716  48b765                 35\n",
              "\n",
              "[9996 rows x 2 columns]"
            ]
          },
          "execution_count": 17,
          "metadata": {},
          "output_type": "execute_result"
        }
      ],
      "source": [
        "event_data_cohort"
      ]
    },
    {
      "cell_type": "code",
      "execution_count": null,
      "id": "631f7c2e",
      "metadata": {
        "id": "631f7c2e"
      },
      "outputs": [],
      "source": [
        "event_data = event_data.merge(event_data_cohort, how='left', on='user_id')"
      ]
    },
    {
      "cell_type": "code",
      "execution_count": null,
      "id": "9132097a",
      "metadata": {
        "id": "9132097a",
        "outputId": "7373e760-87f9-40f6-a4e7-09878ce99c97"
      },
      "outputs": [
        {
          "data": {
            "text/html": [
              "<div>\n",
              "<style scoped>\n",
              "    .dataframe tbody tr th:only-of-type {\n",
              "        vertical-align: middle;\n",
              "    }\n",
              "\n",
              "    .dataframe tbody tr th {\n",
              "        vertical-align: top;\n",
              "    }\n",
              "\n",
              "    .dataframe thead th {\n",
              "        text-align: right;\n",
              "    }\n",
              "</style>\n",
              "<table border=\"1\" class=\"dataframe\">\n",
              "  <thead>\n",
              "    <tr style=\"text-align: right;\">\n",
              "      <th></th>\n",
              "      <th>user_id</th>\n",
              "      <th>event_date</th>\n",
              "      <th>event_type</th>\n",
              "      <th>purchase_amount</th>\n",
              "      <th>week</th>\n",
              "      <th>cohort_identifier</th>\n",
              "    </tr>\n",
              "  </thead>\n",
              "  <tbody>\n",
              "    <tr>\n",
              "      <th>0</th>\n",
              "      <td>c40e6a</td>\n",
              "      <td>2019-07-29 00:02:15</td>\n",
              "      <td>registration</td>\n",
              "      <td>NaN</td>\n",
              "      <td>31</td>\n",
              "      <td>31</td>\n",
              "    </tr>\n",
              "    <tr>\n",
              "      <th>1</th>\n",
              "      <td>a2b682</td>\n",
              "      <td>2019-07-29 00:04:46</td>\n",
              "      <td>registration</td>\n",
              "      <td>NaN</td>\n",
              "      <td>31</td>\n",
              "      <td>31</td>\n",
              "    </tr>\n",
              "    <tr>\n",
              "      <th>2</th>\n",
              "      <td>9ac888</td>\n",
              "      <td>2019-07-29 00:13:22</td>\n",
              "      <td>registration</td>\n",
              "      <td>NaN</td>\n",
              "      <td>31</td>\n",
              "      <td>31</td>\n",
              "    </tr>\n",
              "    <tr>\n",
              "      <th>3</th>\n",
              "      <td>93ff22</td>\n",
              "      <td>2019-07-29 00:16:47</td>\n",
              "      <td>registration</td>\n",
              "      <td>NaN</td>\n",
              "      <td>31</td>\n",
              "      <td>31</td>\n",
              "    </tr>\n",
              "    <tr>\n",
              "      <th>4</th>\n",
              "      <td>65ef85</td>\n",
              "      <td>2019-07-29 00:19:23</td>\n",
              "      <td>registration</td>\n",
              "      <td>NaN</td>\n",
              "      <td>31</td>\n",
              "      <td>31</td>\n",
              "    </tr>\n",
              "    <tr>\n",
              "      <th>...</th>\n",
              "      <td>...</td>\n",
              "      <td>...</td>\n",
              "      <td>...</td>\n",
              "      <td>...</td>\n",
              "      <td>...</td>\n",
              "      <td>...</td>\n",
              "    </tr>\n",
              "    <tr>\n",
              "      <th>79737</th>\n",
              "      <td>930c23</td>\n",
              "      <td>2019-09-01 23:57:41</td>\n",
              "      <td>simple_event</td>\n",
              "      <td>NaN</td>\n",
              "      <td>35</td>\n",
              "      <td>32</td>\n",
              "    </tr>\n",
              "    <tr>\n",
              "      <th>79738</th>\n",
              "      <td>a84999</td>\n",
              "      <td>2019-09-01 23:57:50</td>\n",
              "      <td>simple_event</td>\n",
              "      <td>NaN</td>\n",
              "      <td>35</td>\n",
              "      <td>33</td>\n",
              "    </tr>\n",
              "    <tr>\n",
              "      <th>79739</th>\n",
              "      <td>175e4d</td>\n",
              "      <td>2019-09-01 23:59:40</td>\n",
              "      <td>simple_event</td>\n",
              "      <td>NaN</td>\n",
              "      <td>35</td>\n",
              "      <td>32</td>\n",
              "    </tr>\n",
              "    <tr>\n",
              "      <th>79740</th>\n",
              "      <td>1c2210</td>\n",
              "      <td>2019-09-01 23:59:51</td>\n",
              "      <td>simple_event</td>\n",
              "      <td>NaN</td>\n",
              "      <td>35</td>\n",
              "      <td>33</td>\n",
              "    </tr>\n",
              "    <tr>\n",
              "      <th>79741</th>\n",
              "      <td>d799dc</td>\n",
              "      <td>2019-09-01 23:59:54</td>\n",
              "      <td>simple_event</td>\n",
              "      <td>NaN</td>\n",
              "      <td>35</td>\n",
              "      <td>35</td>\n",
              "    </tr>\n",
              "  </tbody>\n",
              "</table>\n",
              "<p>79742 rows × 6 columns</p>\n",
              "</div>"
            ],
            "text/plain": [
              "      user_id          event_date    event_type  purchase_amount  week  \\\n",
              "0      c40e6a 2019-07-29 00:02:15  registration              NaN    31   \n",
              "1      a2b682 2019-07-29 00:04:46  registration              NaN    31   \n",
              "2      9ac888 2019-07-29 00:13:22  registration              NaN    31   \n",
              "3      93ff22 2019-07-29 00:16:47  registration              NaN    31   \n",
              "4      65ef85 2019-07-29 00:19:23  registration              NaN    31   \n",
              "...       ...                 ...           ...              ...   ...   \n",
              "79737  930c23 2019-09-01 23:57:41  simple_event              NaN    35   \n",
              "79738  a84999 2019-09-01 23:57:50  simple_event              NaN    35   \n",
              "79739  175e4d 2019-09-01 23:59:40  simple_event              NaN    35   \n",
              "79740  1c2210 2019-09-01 23:59:51  simple_event              NaN    35   \n",
              "79741  d799dc 2019-09-01 23:59:54  simple_event              NaN    35   \n",
              "\n",
              "       cohort_identifier  \n",
              "0                     31  \n",
              "1                     31  \n",
              "2                     31  \n",
              "3                     31  \n",
              "4                     31  \n",
              "...                  ...  \n",
              "79737                 32  \n",
              "79738                 33  \n",
              "79739                 32  \n",
              "79740                 33  \n",
              "79741                 35  \n",
              "\n",
              "[79742 rows x 6 columns]"
            ]
          },
          "execution_count": 19,
          "metadata": {},
          "output_type": "execute_result"
        }
      ],
      "source": [
        "event_data"
      ]
    },
    {
      "cell_type": "code",
      "execution_count": null,
      "id": "1ced4a5b",
      "metadata": {
        "id": "1ced4a5b"
      },
      "outputs": [],
      "source": [
        "################################################################################################################################"
      ]
    },
    {
      "cell_type": "markdown",
      "id": "820c7ac7",
      "metadata": {
        "id": "820c7ac7"
      },
      "source": [
        "# 3 How many unique users in the cohort with ID 33?"
      ]
    },
    {
      "cell_type": "code",
      "execution_count": null,
      "id": "f121692d",
      "metadata": {
        "id": "f121692d",
        "outputId": "eb22f555-15e6-48a7-a501-a294872b8257"
      },
      "outputs": [
        {
          "data": {
            "text/plain": [
              "18967"
            ]
          },
          "execution_count": 21,
          "metadata": {},
          "output_type": "execute_result"
        }
      ],
      "source": [
        "event_data['cohort_identifier'].value_counts()[33]"
      ]
    },
    {
      "cell_type": "code",
      "execution_count": null,
      "id": "a3c10b04",
      "metadata": {
        "id": "a3c10b04"
      },
      "outputs": [],
      "source": [
        "################################################################################################################################"
      ]
    },
    {
      "cell_type": "markdown",
      "id": "50494f16",
      "metadata": {
        "id": "50494f16"
      },
      "source": [
        "# 4 For each event, highlight the indicator lifetime - the weekly lifetime of the cohort. The lifetime indicator is calculated based on the serial number of the week in which the event is committed, relative to the week of registration. For example, an event committed on August 3 by a user from a cohort of registrants at 31 weeks will be committed on the zero week of lifetime, and an event committed by the same user on August 5 will be committed on the first week of lifetime)."
      ]
    },
    {
      "cell_type": "code",
      "execution_count": null,
      "id": "3728f084",
      "metadata": {
        "id": "3728f084"
      },
      "outputs": [],
      "source": [
        "event_data['lifetime'] = event_data['week'] - event_data['cohort_identifier']"
      ]
    },
    {
      "cell_type": "code",
      "execution_count": null,
      "id": "08f85e29",
      "metadata": {
        "id": "08f85e29",
        "outputId": "898725f2-557c-45cf-fd06-55b9bb8f7395"
      },
      "outputs": [
        {
          "data": {
            "text/html": [
              "<div>\n",
              "<style scoped>\n",
              "    .dataframe tbody tr th:only-of-type {\n",
              "        vertical-align: middle;\n",
              "    }\n",
              "\n",
              "    .dataframe tbody tr th {\n",
              "        vertical-align: top;\n",
              "    }\n",
              "\n",
              "    .dataframe thead th {\n",
              "        text-align: right;\n",
              "    }\n",
              "</style>\n",
              "<table border=\"1\" class=\"dataframe\">\n",
              "  <thead>\n",
              "    <tr style=\"text-align: right;\">\n",
              "      <th></th>\n",
              "      <th>user_id</th>\n",
              "      <th>event_date</th>\n",
              "      <th>event_type</th>\n",
              "      <th>purchase_amount</th>\n",
              "      <th>week</th>\n",
              "      <th>cohort_identifier</th>\n",
              "      <th>lifetime</th>\n",
              "    </tr>\n",
              "  </thead>\n",
              "  <tbody>\n",
              "    <tr>\n",
              "      <th>0</th>\n",
              "      <td>c40e6a</td>\n",
              "      <td>2019-07-29 00:02:15</td>\n",
              "      <td>registration</td>\n",
              "      <td>NaN</td>\n",
              "      <td>31</td>\n",
              "      <td>31</td>\n",
              "      <td>0</td>\n",
              "    </tr>\n",
              "    <tr>\n",
              "      <th>1</th>\n",
              "      <td>a2b682</td>\n",
              "      <td>2019-07-29 00:04:46</td>\n",
              "      <td>registration</td>\n",
              "      <td>NaN</td>\n",
              "      <td>31</td>\n",
              "      <td>31</td>\n",
              "      <td>0</td>\n",
              "    </tr>\n",
              "    <tr>\n",
              "      <th>2</th>\n",
              "      <td>9ac888</td>\n",
              "      <td>2019-07-29 00:13:22</td>\n",
              "      <td>registration</td>\n",
              "      <td>NaN</td>\n",
              "      <td>31</td>\n",
              "      <td>31</td>\n",
              "      <td>0</td>\n",
              "    </tr>\n",
              "    <tr>\n",
              "      <th>3</th>\n",
              "      <td>93ff22</td>\n",
              "      <td>2019-07-29 00:16:47</td>\n",
              "      <td>registration</td>\n",
              "      <td>NaN</td>\n",
              "      <td>31</td>\n",
              "      <td>31</td>\n",
              "      <td>0</td>\n",
              "    </tr>\n",
              "    <tr>\n",
              "      <th>4</th>\n",
              "      <td>65ef85</td>\n",
              "      <td>2019-07-29 00:19:23</td>\n",
              "      <td>registration</td>\n",
              "      <td>NaN</td>\n",
              "      <td>31</td>\n",
              "      <td>31</td>\n",
              "      <td>0</td>\n",
              "    </tr>\n",
              "    <tr>\n",
              "      <th>...</th>\n",
              "      <td>...</td>\n",
              "      <td>...</td>\n",
              "      <td>...</td>\n",
              "      <td>...</td>\n",
              "      <td>...</td>\n",
              "      <td>...</td>\n",
              "      <td>...</td>\n",
              "    </tr>\n",
              "    <tr>\n",
              "      <th>79737</th>\n",
              "      <td>930c23</td>\n",
              "      <td>2019-09-01 23:57:41</td>\n",
              "      <td>simple_event</td>\n",
              "      <td>NaN</td>\n",
              "      <td>35</td>\n",
              "      <td>32</td>\n",
              "      <td>3</td>\n",
              "    </tr>\n",
              "    <tr>\n",
              "      <th>79738</th>\n",
              "      <td>a84999</td>\n",
              "      <td>2019-09-01 23:57:50</td>\n",
              "      <td>simple_event</td>\n",
              "      <td>NaN</td>\n",
              "      <td>35</td>\n",
              "      <td>33</td>\n",
              "      <td>2</td>\n",
              "    </tr>\n",
              "    <tr>\n",
              "      <th>79739</th>\n",
              "      <td>175e4d</td>\n",
              "      <td>2019-09-01 23:59:40</td>\n",
              "      <td>simple_event</td>\n",
              "      <td>NaN</td>\n",
              "      <td>35</td>\n",
              "      <td>32</td>\n",
              "      <td>3</td>\n",
              "    </tr>\n",
              "    <tr>\n",
              "      <th>79740</th>\n",
              "      <td>1c2210</td>\n",
              "      <td>2019-09-01 23:59:51</td>\n",
              "      <td>simple_event</td>\n",
              "      <td>NaN</td>\n",
              "      <td>35</td>\n",
              "      <td>33</td>\n",
              "      <td>2</td>\n",
              "    </tr>\n",
              "    <tr>\n",
              "      <th>79741</th>\n",
              "      <td>d799dc</td>\n",
              "      <td>2019-09-01 23:59:54</td>\n",
              "      <td>simple_event</td>\n",
              "      <td>NaN</td>\n",
              "      <td>35</td>\n",
              "      <td>35</td>\n",
              "      <td>0</td>\n",
              "    </tr>\n",
              "  </tbody>\n",
              "</table>\n",
              "<p>79742 rows × 7 columns</p>\n",
              "</div>"
            ],
            "text/plain": [
              "      user_id          event_date    event_type  purchase_amount  week  \\\n",
              "0      c40e6a 2019-07-29 00:02:15  registration              NaN    31   \n",
              "1      a2b682 2019-07-29 00:04:46  registration              NaN    31   \n",
              "2      9ac888 2019-07-29 00:13:22  registration              NaN    31   \n",
              "3      93ff22 2019-07-29 00:16:47  registration              NaN    31   \n",
              "4      65ef85 2019-07-29 00:19:23  registration              NaN    31   \n",
              "...       ...                 ...           ...              ...   ...   \n",
              "79737  930c23 2019-09-01 23:57:41  simple_event              NaN    35   \n",
              "79738  a84999 2019-09-01 23:57:50  simple_event              NaN    35   \n",
              "79739  175e4d 2019-09-01 23:59:40  simple_event              NaN    35   \n",
              "79740  1c2210 2019-09-01 23:59:51  simple_event              NaN    35   \n",
              "79741  d799dc 2019-09-01 23:59:54  simple_event              NaN    35   \n",
              "\n",
              "       cohort_identifier  lifetime  \n",
              "0                     31         0  \n",
              "1                     31         0  \n",
              "2                     31         0  \n",
              "3                     31         0  \n",
              "4                     31         0  \n",
              "...                  ...       ...  \n",
              "79737                 32         3  \n",
              "79738                 33         2  \n",
              "79739                 32         3  \n",
              "79740                 33         2  \n",
              "79741                 35         0  \n",
              "\n",
              "[79742 rows x 7 columns]"
            ]
          },
          "execution_count": 24,
          "metadata": {},
          "output_type": "execute_result"
        }
      ],
      "source": [
        "event_data"
      ]
    },
    {
      "cell_type": "markdown",
      "id": "9d1f6952",
      "metadata": {
        "id": "9d1f6952"
      },
      "source": [
        "# 5 - Build a summary table of changes in the Retention Rate for cohorts depending on lifetime."
      ]
    },
    {
      "cell_type": "code",
      "execution_count": null,
      "id": "ffafefde",
      "metadata": {
        "id": "ffafefde"
      },
      "outputs": [],
      "source": [
        "conclusion = event_data.pivot_table(index = ['cohort_identifier','lifetime'], \n",
        "                          aggfunc = {'user_id':'nunique'}).reset_index() "
      ]
    },
    {
      "cell_type": "code",
      "execution_count": null,
      "id": "52befa53",
      "metadata": {
        "id": "52befa53",
        "outputId": "7ef01569-e7e8-4eb5-e07e-0863bda6184f"
      },
      "outputs": [
        {
          "data": {
            "text/html": [
              "<div>\n",
              "<style scoped>\n",
              "    .dataframe tbody tr th:only-of-type {\n",
              "        vertical-align: middle;\n",
              "    }\n",
              "\n",
              "    .dataframe tbody tr th {\n",
              "        vertical-align: top;\n",
              "    }\n",
              "\n",
              "    .dataframe thead th {\n",
              "        text-align: right;\n",
              "    }\n",
              "</style>\n",
              "<table border=\"1\" class=\"dataframe\">\n",
              "  <thead>\n",
              "    <tr style=\"text-align: right;\">\n",
              "      <th></th>\n",
              "      <th>cohort_identifier</th>\n",
              "      <th>lifetime</th>\n",
              "      <th>user_id</th>\n",
              "    </tr>\n",
              "  </thead>\n",
              "  <tbody>\n",
              "    <tr>\n",
              "      <th>0</th>\n",
              "      <td>31</td>\n",
              "      <td>0</td>\n",
              "      <td>1975</td>\n",
              "    </tr>\n",
              "    <tr>\n",
              "      <th>1</th>\n",
              "      <td>31</td>\n",
              "      <td>1</td>\n",
              "      <td>1832</td>\n",
              "    </tr>\n",
              "    <tr>\n",
              "      <th>2</th>\n",
              "      <td>31</td>\n",
              "      <td>2</td>\n",
              "      <td>1243</td>\n",
              "    </tr>\n",
              "    <tr>\n",
              "      <th>3</th>\n",
              "      <td>31</td>\n",
              "      <td>3</td>\n",
              "      <td>705</td>\n",
              "    </tr>\n",
              "    <tr>\n",
              "      <th>4</th>\n",
              "      <td>31</td>\n",
              "      <td>4</td>\n",
              "      <td>297</td>\n",
              "    </tr>\n",
              "    <tr>\n",
              "      <th>5</th>\n",
              "      <td>32</td>\n",
              "      <td>0</td>\n",
              "      <td>1952</td>\n",
              "    </tr>\n",
              "    <tr>\n",
              "      <th>6</th>\n",
              "      <td>32</td>\n",
              "      <td>1</td>\n",
              "      <td>1814</td>\n",
              "    </tr>\n",
              "    <tr>\n",
              "      <th>7</th>\n",
              "      <td>32</td>\n",
              "      <td>2</td>\n",
              "      <td>1265</td>\n",
              "    </tr>\n",
              "    <tr>\n",
              "      <th>8</th>\n",
              "      <td>32</td>\n",
              "      <td>3</td>\n",
              "      <td>705</td>\n",
              "    </tr>\n",
              "    <tr>\n",
              "      <th>9</th>\n",
              "      <td>33</td>\n",
              "      <td>0</td>\n",
              "      <td>2045</td>\n",
              "    </tr>\n",
              "    <tr>\n",
              "      <th>10</th>\n",
              "      <td>33</td>\n",
              "      <td>1</td>\n",
              "      <td>1890</td>\n",
              "    </tr>\n",
              "    <tr>\n",
              "      <th>11</th>\n",
              "      <td>33</td>\n",
              "      <td>2</td>\n",
              "      <td>1352</td>\n",
              "    </tr>\n",
              "    <tr>\n",
              "      <th>12</th>\n",
              "      <td>34</td>\n",
              "      <td>0</td>\n",
              "      <td>1974</td>\n",
              "    </tr>\n",
              "    <tr>\n",
              "      <th>13</th>\n",
              "      <td>34</td>\n",
              "      <td>1</td>\n",
              "      <td>1834</td>\n",
              "    </tr>\n",
              "    <tr>\n",
              "      <th>14</th>\n",
              "      <td>35</td>\n",
              "      <td>0</td>\n",
              "      <td>2050</td>\n",
              "    </tr>\n",
              "  </tbody>\n",
              "</table>\n",
              "</div>"
            ],
            "text/plain": [
              "    cohort_identifier  lifetime  user_id\n",
              "0                  31         0     1975\n",
              "1                  31         1     1832\n",
              "2                  31         2     1243\n",
              "3                  31         3      705\n",
              "4                  31         4      297\n",
              "5                  32         0     1952\n",
              "6                  32         1     1814\n",
              "7                  32         2     1265\n",
              "8                  32         3      705\n",
              "9                  33         0     2045\n",
              "10                 33         1     1890\n",
              "11                 33         2     1352\n",
              "12                 34         0     1974\n",
              "13                 34         1     1834\n",
              "14                 35         0     2050"
            ]
          },
          "execution_count": 26,
          "metadata": {},
          "output_type": "execute_result"
        }
      ],
      "source": [
        "conclusion"
      ]
    },
    {
      "cell_type": "markdown",
      "id": "1d0163d7",
      "metadata": {
        "id": "1d0163d7"
      },
      "source": [
        "![Sem%20t%C3%ADtulo1.png](attachment:Sem%20t%C3%ADtulo1.png)"
      ]
    },
    {
      "cell_type": "code",
      "execution_count": null,
      "id": "69769838",
      "metadata": {
        "id": "69769838",
        "outputId": "3f0c910a-36e7-4fe2-d577-23784d7d9dd1"
      },
      "outputs": [
        {
          "data": {
            "text/html": [
              "<div>\n",
              "<style scoped>\n",
              "    .dataframe tbody tr th:only-of-type {\n",
              "        vertical-align: middle;\n",
              "    }\n",
              "\n",
              "    .dataframe tbody tr th {\n",
              "        vertical-align: top;\n",
              "    }\n",
              "\n",
              "    .dataframe thead th {\n",
              "        text-align: right;\n",
              "    }\n",
              "</style>\n",
              "<table border=\"1\" class=\"dataframe\">\n",
              "  <thead>\n",
              "    <tr style=\"text-align: right;\">\n",
              "      <th></th>\n",
              "      <th>cohort_identifier</th>\n",
              "      <th>cohort_users</th>\n",
              "    </tr>\n",
              "  </thead>\n",
              "  <tbody>\n",
              "    <tr>\n",
              "      <th>0</th>\n",
              "      <td>31</td>\n",
              "      <td>1975</td>\n",
              "    </tr>\n",
              "    <tr>\n",
              "      <th>5</th>\n",
              "      <td>32</td>\n",
              "      <td>1952</td>\n",
              "    </tr>\n",
              "    <tr>\n",
              "      <th>9</th>\n",
              "      <td>33</td>\n",
              "      <td>2045</td>\n",
              "    </tr>\n",
              "    <tr>\n",
              "      <th>12</th>\n",
              "      <td>34</td>\n",
              "      <td>1974</td>\n",
              "    </tr>\n",
              "    <tr>\n",
              "      <th>14</th>\n",
              "      <td>35</td>\n",
              "      <td>2050</td>\n",
              "    </tr>\n",
              "  </tbody>\n",
              "</table>\n",
              "</div>"
            ],
            "text/plain": [
              "    cohort_identifier  cohort_users\n",
              "0                  31          1975\n",
              "5                  32          1952\n",
              "9                  33          2045\n",
              "12                 34          1974\n",
              "14                 35          2050"
            ]
          },
          "execution_count": 27,
          "metadata": {},
          "output_type": "execute_result"
        }
      ],
      "source": [
        "initial_users_id = conclusion[conclusion['lifetime'] == 0]\n",
        "initial_users_id = initial_users_id[['cohort_identifier','user_id']]\n",
        "initial_users_id = initial_users_id.rename(columns={'user_id':'cohort_users'}) \n",
        "initial_users_id "
      ]
    },
    {
      "cell_type": "code",
      "execution_count": null,
      "id": "f5df1d91",
      "metadata": {
        "id": "f5df1d91"
      },
      "outputs": [],
      "source": [
        "conclusion = conclusion.merge(initial_users_id,on='cohort_identifier')\n",
        "conclusion['retention_rate'] = conclusion['user_id']/conclusion['cohort_users'] \n",
        "retention_rate = conclusion.pivot_table(index='cohort_identifier',\n",
        "                                        columns='lifetime',\n",
        "                                        values='retention_rate',\n",
        "                                        aggfunc='sum') "
      ]
    },
    {
      "cell_type": "code",
      "execution_count": null,
      "id": "cb0d2d73",
      "metadata": {
        "id": "cb0d2d73",
        "outputId": "4ab932b2-8a72-48f5-bb6a-a28a8805be44"
      },
      "outputs": [
        {
          "data": {
            "text/html": [
              "<div>\n",
              "<style scoped>\n",
              "    .dataframe tbody tr th:only-of-type {\n",
              "        vertical-align: middle;\n",
              "    }\n",
              "\n",
              "    .dataframe tbody tr th {\n",
              "        vertical-align: top;\n",
              "    }\n",
              "\n",
              "    .dataframe thead th {\n",
              "        text-align: right;\n",
              "    }\n",
              "</style>\n",
              "<table border=\"1\" class=\"dataframe\">\n",
              "  <thead>\n",
              "    <tr style=\"text-align: right;\">\n",
              "      <th>lifetime</th>\n",
              "      <th>0</th>\n",
              "      <th>1</th>\n",
              "      <th>2</th>\n",
              "      <th>3</th>\n",
              "      <th>4</th>\n",
              "    </tr>\n",
              "    <tr>\n",
              "      <th>cohort_identifier</th>\n",
              "      <th></th>\n",
              "      <th></th>\n",
              "      <th></th>\n",
              "      <th></th>\n",
              "      <th></th>\n",
              "    </tr>\n",
              "  </thead>\n",
              "  <tbody>\n",
              "    <tr>\n",
              "      <th>31</th>\n",
              "      <td>1.0</td>\n",
              "      <td>0.927595</td>\n",
              "      <td>0.629367</td>\n",
              "      <td>0.356962</td>\n",
              "      <td>0.15038</td>\n",
              "    </tr>\n",
              "    <tr>\n",
              "      <th>32</th>\n",
              "      <td>1.0</td>\n",
              "      <td>0.929303</td>\n",
              "      <td>0.648053</td>\n",
              "      <td>0.361168</td>\n",
              "      <td>NaN</td>\n",
              "    </tr>\n",
              "    <tr>\n",
              "      <th>33</th>\n",
              "      <td>1.0</td>\n",
              "      <td>0.924205</td>\n",
              "      <td>0.661125</td>\n",
              "      <td>NaN</td>\n",
              "      <td>NaN</td>\n",
              "    </tr>\n",
              "    <tr>\n",
              "      <th>34</th>\n",
              "      <td>1.0</td>\n",
              "      <td>0.929078</td>\n",
              "      <td>NaN</td>\n",
              "      <td>NaN</td>\n",
              "      <td>NaN</td>\n",
              "    </tr>\n",
              "    <tr>\n",
              "      <th>35</th>\n",
              "      <td>1.0</td>\n",
              "      <td>NaN</td>\n",
              "      <td>NaN</td>\n",
              "      <td>NaN</td>\n",
              "      <td>NaN</td>\n",
              "    </tr>\n",
              "  </tbody>\n",
              "</table>\n",
              "</div>"
            ],
            "text/plain": [
              "lifetime             0         1         2         3        4\n",
              "cohort_identifier                                            \n",
              "31                 1.0  0.927595  0.629367  0.356962  0.15038\n",
              "32                 1.0  0.929303  0.648053  0.361168      NaN\n",
              "33                 1.0  0.924205  0.661125       NaN      NaN\n",
              "34                 1.0  0.929078       NaN       NaN      NaN\n",
              "35                 1.0       NaN       NaN       NaN      NaN"
            ]
          },
          "execution_count": 29,
          "metadata": {},
          "output_type": "execute_result"
        }
      ],
      "source": [
        "retention_rate"
      ]
    },
    {
      "cell_type": "code",
      "execution_count": null,
      "id": "da68dbc2",
      "metadata": {
        "id": "da68dbc2",
        "outputId": "d1afcd3a-b7a0-48f5-835d-1757ff638e7c"
      },
      "outputs": [
        {
          "data": {
            "image/png": "[encoded data removed]",
            "text/plain": [
              "<Figure size 1512x720 with 2 Axes>"
            ]
          },
          "metadata": {
            "needs_background": "light"
          },
          "output_type": "display_data"
        }
      ],
      "source": [
        "plt.figure(figsize=(21,10))\n",
        "plt.title('costumer retention rate')\n",
        "sns.heatmap(retention_rate.iloc[:, :], annot=True, \n",
        "            fmt='.2%', linewidths=1, cmap='Blues'); "
      ]
    },
    {
      "cell_type": "markdown",
      "id": "ac4779da",
      "metadata": {
        "id": "ac4779da"
      },
      "source": [
        "# 6 What is the 3 week retention rate for a cohort with ID 32? Give the answer in percent, rounded to 2 decimal places, inclusive."
      ]
    },
    {
      "cell_type": "code",
      "execution_count": null,
      "id": "3c16c691",
      "metadata": {
        "id": "3c16c691",
        "outputId": "fbee1569-f82d-4762-a9ed-62014741b9a5"
      },
      "outputs": [
        {
          "data": {
            "text/plain": [
              "'66.11 %'"
            ]
          },
          "execution_count": 31,
          "metadata": {},
          "output_type": "execute_result"
        }
      ],
      "source": [
        "str(round(((retention_rate.loc[33,2])*100),2)) + ' %'"
      ]
    },
    {
      "cell_type": "code",
      "execution_count": null,
      "id": "d760077b",
      "metadata": {
        "id": "d760077b"
      },
      "outputs": [],
      "source": [
        "################################################################################################################################"
      ]
    },
    {
      "cell_type": "markdown",
      "id": "452772d3",
      "metadata": {
        "id": "452772d3"
      },
      "source": [
        "# 7- Build a summary table of changes in the indicator ARPPU (Average Revenue Per Paying User) for cohorts depending on lifetime."
      ]
    },
    {
      "cell_type": "code",
      "execution_count": null,
      "id": "41eded48",
      "metadata": {
        "id": "41eded48",
        "outputId": "6cd7adf6-5da5-4265-ee1c-61297698bd90"
      },
      "outputs": [
        {
          "data": {
            "text/html": [
              "<div>\n",
              "<style scoped>\n",
              "    .dataframe tbody tr th:only-of-type {\n",
              "        vertical-align: middle;\n",
              "    }\n",
              "\n",
              "    .dataframe tbody tr th {\n",
              "        vertical-align: top;\n",
              "    }\n",
              "\n",
              "    .dataframe thead th {\n",
              "        text-align: right;\n",
              "    }\n",
              "</style>\n",
              "<table border=\"1\" class=\"dataframe\">\n",
              "  <thead>\n",
              "    <tr style=\"text-align: right;\">\n",
              "      <th></th>\n",
              "      <th>user_id</th>\n",
              "      <th>event_date</th>\n",
              "      <th>event_type</th>\n",
              "      <th>purchase_amount</th>\n",
              "      <th>week</th>\n",
              "      <th>cohort_identifier</th>\n",
              "      <th>lifetime</th>\n",
              "    </tr>\n",
              "  </thead>\n",
              "  <tbody>\n",
              "    <tr>\n",
              "      <th>0</th>\n",
              "      <td>c40e6a</td>\n",
              "      <td>2019-07-29 00:02:15</td>\n",
              "      <td>registration</td>\n",
              "      <td>NaN</td>\n",
              "      <td>31</td>\n",
              "      <td>31</td>\n",
              "      <td>0</td>\n",
              "    </tr>\n",
              "    <tr>\n",
              "      <th>1</th>\n",
              "      <td>a2b682</td>\n",
              "      <td>2019-07-29 00:04:46</td>\n",
              "      <td>registration</td>\n",
              "      <td>NaN</td>\n",
              "      <td>31</td>\n",
              "      <td>31</td>\n",
              "      <td>0</td>\n",
              "    </tr>\n",
              "    <tr>\n",
              "      <th>2</th>\n",
              "      <td>9ac888</td>\n",
              "      <td>2019-07-29 00:13:22</td>\n",
              "      <td>registration</td>\n",
              "      <td>NaN</td>\n",
              "      <td>31</td>\n",
              "      <td>31</td>\n",
              "      <td>0</td>\n",
              "    </tr>\n",
              "    <tr>\n",
              "      <th>3</th>\n",
              "      <td>93ff22</td>\n",
              "      <td>2019-07-29 00:16:47</td>\n",
              "      <td>registration</td>\n",
              "      <td>NaN</td>\n",
              "      <td>31</td>\n",
              "      <td>31</td>\n",
              "      <td>0</td>\n",
              "    </tr>\n",
              "    <tr>\n",
              "      <th>4</th>\n",
              "      <td>65ef85</td>\n",
              "      <td>2019-07-29 00:19:23</td>\n",
              "      <td>registration</td>\n",
              "      <td>NaN</td>\n",
              "      <td>31</td>\n",
              "      <td>31</td>\n",
              "      <td>0</td>\n",
              "    </tr>\n",
              "    <tr>\n",
              "      <th>...</th>\n",
              "      <td>...</td>\n",
              "      <td>...</td>\n",
              "      <td>...</td>\n",
              "      <td>...</td>\n",
              "      <td>...</td>\n",
              "      <td>...</td>\n",
              "      <td>...</td>\n",
              "    </tr>\n",
              "    <tr>\n",
              "      <th>79737</th>\n",
              "      <td>930c23</td>\n",
              "      <td>2019-09-01 23:57:41</td>\n",
              "      <td>simple_event</td>\n",
              "      <td>NaN</td>\n",
              "      <td>35</td>\n",
              "      <td>32</td>\n",
              "      <td>3</td>\n",
              "    </tr>\n",
              "    <tr>\n",
              "      <th>79738</th>\n",
              "      <td>a84999</td>\n",
              "      <td>2019-09-01 23:57:50</td>\n",
              "      <td>simple_event</td>\n",
              "      <td>NaN</td>\n",
              "      <td>35</td>\n",
              "      <td>33</td>\n",
              "      <td>2</td>\n",
              "    </tr>\n",
              "    <tr>\n",
              "      <th>79739</th>\n",
              "      <td>175e4d</td>\n",
              "      <td>2019-09-01 23:59:40</td>\n",
              "      <td>simple_event</td>\n",
              "      <td>NaN</td>\n",
              "      <td>35</td>\n",
              "      <td>32</td>\n",
              "      <td>3</td>\n",
              "    </tr>\n",
              "    <tr>\n",
              "      <th>79740</th>\n",
              "      <td>1c2210</td>\n",
              "      <td>2019-09-01 23:59:51</td>\n",
              "      <td>simple_event</td>\n",
              "      <td>NaN</td>\n",
              "      <td>35</td>\n",
              "      <td>33</td>\n",
              "      <td>2</td>\n",
              "    </tr>\n",
              "    <tr>\n",
              "      <th>79741</th>\n",
              "      <td>d799dc</td>\n",
              "      <td>2019-09-01 23:59:54</td>\n",
              "      <td>simple_event</td>\n",
              "      <td>NaN</td>\n",
              "      <td>35</td>\n",
              "      <td>35</td>\n",
              "      <td>0</td>\n",
              "    </tr>\n",
              "  </tbody>\n",
              "</table>\n",
              "<p>79742 rows × 7 columns</p>\n",
              "</div>"
            ],
            "text/plain": [
              "      user_id          event_date    event_type  purchase_amount  week  \\\n",
              "0      c40e6a 2019-07-29 00:02:15  registration              NaN    31   \n",
              "1      a2b682 2019-07-29 00:04:46  registration              NaN    31   \n",
              "2      9ac888 2019-07-29 00:13:22  registration              NaN    31   \n",
              "3      93ff22 2019-07-29 00:16:47  registration              NaN    31   \n",
              "4      65ef85 2019-07-29 00:19:23  registration              NaN    31   \n",
              "...       ...                 ...           ...              ...   ...   \n",
              "79737  930c23 2019-09-01 23:57:41  simple_event              NaN    35   \n",
              "79738  a84999 2019-09-01 23:57:50  simple_event              NaN    35   \n",
              "79739  175e4d 2019-09-01 23:59:40  simple_event              NaN    35   \n",
              "79740  1c2210 2019-09-01 23:59:51  simple_event              NaN    35   \n",
              "79741  d799dc 2019-09-01 23:59:54  simple_event              NaN    35   \n",
              "\n",
              "       cohort_identifier  lifetime  \n",
              "0                     31         0  \n",
              "1                     31         0  \n",
              "2                     31         0  \n",
              "3                     31         0  \n",
              "4                     31         0  \n",
              "...                  ...       ...  \n",
              "79737                 32         3  \n",
              "79738                 33         2  \n",
              "79739                 32         3  \n",
              "79740                 33         2  \n",
              "79741                 35         0  \n",
              "\n",
              "[79742 rows x 7 columns]"
            ]
          },
          "execution_count": 33,
          "metadata": {},
          "output_type": "execute_result"
        }
      ],
      "source": [
        "# ARPPU = Receita Total ÷ Número Total de Clientes Pagantes\n",
        "event_data"
      ]
    },
    {
      "cell_type": "code",
      "execution_count": null,
      "id": "04aa5083",
      "metadata": {
        "id": "04aa5083",
        "outputId": "3b79fab1-63b7-4129-8c29-5472b35d8b69"
      },
      "outputs": [
        {
          "data": {
            "text/html": [
              "<div>\n",
              "<style scoped>\n",
              "    .dataframe tbody tr th:only-of-type {\n",
              "        vertical-align: middle;\n",
              "    }\n",
              "\n",
              "    .dataframe tbody tr th {\n",
              "        vertical-align: top;\n",
              "    }\n",
              "\n",
              "    .dataframe thead th {\n",
              "        text-align: right;\n",
              "    }\n",
              "</style>\n",
              "<table border=\"1\" class=\"dataframe\">\n",
              "  <thead>\n",
              "    <tr style=\"text-align: right;\">\n",
              "      <th></th>\n",
              "      <th>user_id</th>\n",
              "      <th>event_date</th>\n",
              "      <th>event_type</th>\n",
              "      <th>purchase_amount</th>\n",
              "      <th>week</th>\n",
              "      <th>cohort_identifier</th>\n",
              "      <th>lifetime</th>\n",
              "    </tr>\n",
              "  </thead>\n",
              "  <tbody>\n",
              "    <tr>\n",
              "      <th>0</th>\n",
              "      <td>c40e6a</td>\n",
              "      <td>2019-07-29 00:02:15</td>\n",
              "      <td>registration</td>\n",
              "      <td>NaN</td>\n",
              "      <td>31</td>\n",
              "      <td>31</td>\n",
              "      <td>0</td>\n",
              "    </tr>\n",
              "    <tr>\n",
              "      <th>1</th>\n",
              "      <td>a2b682</td>\n",
              "      <td>2019-07-29 00:04:46</td>\n",
              "      <td>registration</td>\n",
              "      <td>NaN</td>\n",
              "      <td>31</td>\n",
              "      <td>31</td>\n",
              "      <td>0</td>\n",
              "    </tr>\n",
              "    <tr>\n",
              "      <th>2</th>\n",
              "      <td>9ac888</td>\n",
              "      <td>2019-07-29 00:13:22</td>\n",
              "      <td>registration</td>\n",
              "      <td>NaN</td>\n",
              "      <td>31</td>\n",
              "      <td>31</td>\n",
              "      <td>0</td>\n",
              "    </tr>\n",
              "    <tr>\n",
              "      <th>3</th>\n",
              "      <td>93ff22</td>\n",
              "      <td>2019-07-29 00:16:47</td>\n",
              "      <td>registration</td>\n",
              "      <td>NaN</td>\n",
              "      <td>31</td>\n",
              "      <td>31</td>\n",
              "      <td>0</td>\n",
              "    </tr>\n",
              "    <tr>\n",
              "      <th>4</th>\n",
              "      <td>65ef85</td>\n",
              "      <td>2019-07-29 00:19:23</td>\n",
              "      <td>registration</td>\n",
              "      <td>NaN</td>\n",
              "      <td>31</td>\n",
              "      <td>31</td>\n",
              "      <td>0</td>\n",
              "    </tr>\n",
              "    <tr>\n",
              "      <th>...</th>\n",
              "      <td>...</td>\n",
              "      <td>...</td>\n",
              "      <td>...</td>\n",
              "      <td>...</td>\n",
              "      <td>...</td>\n",
              "      <td>...</td>\n",
              "      <td>...</td>\n",
              "    </tr>\n",
              "    <tr>\n",
              "      <th>79737</th>\n",
              "      <td>930c23</td>\n",
              "      <td>2019-09-01 23:57:41</td>\n",
              "      <td>simple_event</td>\n",
              "      <td>NaN</td>\n",
              "      <td>35</td>\n",
              "      <td>32</td>\n",
              "      <td>3</td>\n",
              "    </tr>\n",
              "    <tr>\n",
              "      <th>79738</th>\n",
              "      <td>a84999</td>\n",
              "      <td>2019-09-01 23:57:50</td>\n",
              "      <td>simple_event</td>\n",
              "      <td>NaN</td>\n",
              "      <td>35</td>\n",
              "      <td>33</td>\n",
              "      <td>2</td>\n",
              "    </tr>\n",
              "    <tr>\n",
              "      <th>79739</th>\n",
              "      <td>175e4d</td>\n",
              "      <td>2019-09-01 23:59:40</td>\n",
              "      <td>simple_event</td>\n",
              "      <td>NaN</td>\n",
              "      <td>35</td>\n",
              "      <td>32</td>\n",
              "      <td>3</td>\n",
              "    </tr>\n",
              "    <tr>\n",
              "      <th>79740</th>\n",
              "      <td>1c2210</td>\n",
              "      <td>2019-09-01 23:59:51</td>\n",
              "      <td>simple_event</td>\n",
              "      <td>NaN</td>\n",
              "      <td>35</td>\n",
              "      <td>33</td>\n",
              "      <td>2</td>\n",
              "    </tr>\n",
              "    <tr>\n",
              "      <th>79741</th>\n",
              "      <td>d799dc</td>\n",
              "      <td>2019-09-01 23:59:54</td>\n",
              "      <td>simple_event</td>\n",
              "      <td>NaN</td>\n",
              "      <td>35</td>\n",
              "      <td>35</td>\n",
              "      <td>0</td>\n",
              "    </tr>\n",
              "  </tbody>\n",
              "</table>\n",
              "<p>79742 rows × 7 columns</p>\n",
              "</div>"
            ],
            "text/plain": [
              "      user_id          event_date    event_type  purchase_amount  week  \\\n",
              "0      c40e6a 2019-07-29 00:02:15  registration              NaN    31   \n",
              "1      a2b682 2019-07-29 00:04:46  registration              NaN    31   \n",
              "2      9ac888 2019-07-29 00:13:22  registration              NaN    31   \n",
              "3      93ff22 2019-07-29 00:16:47  registration              NaN    31   \n",
              "4      65ef85 2019-07-29 00:19:23  registration              NaN    31   \n",
              "...       ...                 ...           ...              ...   ...   \n",
              "79737  930c23 2019-09-01 23:57:41  simple_event              NaN    35   \n",
              "79738  a84999 2019-09-01 23:57:50  simple_event              NaN    35   \n",
              "79739  175e4d 2019-09-01 23:59:40  simple_event              NaN    35   \n",
              "79740  1c2210 2019-09-01 23:59:51  simple_event              NaN    35   \n",
              "79741  d799dc 2019-09-01 23:59:54  simple_event              NaN    35   \n",
              "\n",
              "       cohort_identifier  lifetime  \n",
              "0                     31         0  \n",
              "1                     31         0  \n",
              "2                     31         0  \n",
              "3                     31         0  \n",
              "4                     31         0  \n",
              "...                  ...       ...  \n",
              "79737                 32         3  \n",
              "79738                 33         2  \n",
              "79739                 32         3  \n",
              "79740                 33         2  \n",
              "79741                 35         0  \n",
              "\n",
              "[79742 rows x 7 columns]"
            ]
          },
          "execution_count": 34,
          "metadata": {},
          "output_type": "execute_result"
        }
      ],
      "source": [
        "# ARPPU = Receita Total ÷ Número Total de Clientes Pagantes\n",
        "event_data"
      ]
    },
    {
      "cell_type": "code",
      "execution_count": null,
      "id": "8fa558f6",
      "metadata": {
        "id": "8fa558f6",
        "outputId": "04d213fa-44be-4934-b36e-0bfaa981d9cc"
      },
      "outputs": [
        {
          "name": "stderr",
          "output_type": "stream",
          "text": [
            "C:\\Users\\User\\AppData\\Local\\Temp/ipykernel_10816/2083087590.py:2: SettingWithCopyWarning: \n",
            "A value is trying to be set on a copy of a slice from a DataFrame\n",
            "\n",
            "See the caveats in the documentation: https://pandas.pydata.org/pandas-docs/stable/user_guide/indexing.html#returning-a-view-versus-a-copy\n",
            "  answer_7a.dropna(axis = 0, how ='any', inplace=True)\n"
          ]
        }
      ],
      "source": [
        "answer_7a = event_data[['cohort_identifier','lifetime','purchase_amount']]\n",
        "answer_7a.dropna(axis = 0, how ='any', inplace=True)"
      ]
    },
    {
      "cell_type": "code",
      "execution_count": null,
      "id": "a601dbc2",
      "metadata": {
        "id": "a601dbc2",
        "outputId": "41c21578-1477-4101-e92d-45b77d17369e"
      },
      "outputs": [
        {
          "data": {
            "text/html": [
              "<div>\n",
              "<style scoped>\n",
              "    .dataframe tbody tr th:only-of-type {\n",
              "        vertical-align: middle;\n",
              "    }\n",
              "\n",
              "    .dataframe tbody tr th {\n",
              "        vertical-align: top;\n",
              "    }\n",
              "\n",
              "    .dataframe thead th {\n",
              "        text-align: right;\n",
              "    }\n",
              "</style>\n",
              "<table border=\"1\" class=\"dataframe\">\n",
              "  <thead>\n",
              "    <tr style=\"text-align: right;\">\n",
              "      <th></th>\n",
              "      <th>cohort_identifier</th>\n",
              "      <th>lifetime</th>\n",
              "      <th>purchase_amount</th>\n",
              "    </tr>\n",
              "  </thead>\n",
              "  <tbody>\n",
              "    <tr>\n",
              "      <th>146</th>\n",
              "      <td>31</td>\n",
              "      <td>0</td>\n",
              "      <td>10.0</td>\n",
              "    </tr>\n",
              "    <tr>\n",
              "      <th>147</th>\n",
              "      <td>31</td>\n",
              "      <td>0</td>\n",
              "      <td>50.0</td>\n",
              "    </tr>\n",
              "    <tr>\n",
              "      <th>188</th>\n",
              "      <td>31</td>\n",
              "      <td>0</td>\n",
              "      <td>10.0</td>\n",
              "    </tr>\n",
              "    <tr>\n",
              "      <th>341</th>\n",
              "      <td>31</td>\n",
              "      <td>0</td>\n",
              "      <td>50.0</td>\n",
              "    </tr>\n",
              "    <tr>\n",
              "      <th>395</th>\n",
              "      <td>31</td>\n",
              "      <td>0</td>\n",
              "      <td>50.0</td>\n",
              "    </tr>\n",
              "    <tr>\n",
              "      <th>...</th>\n",
              "      <td>...</td>\n",
              "      <td>...</td>\n",
              "      <td>...</td>\n",
              "    </tr>\n",
              "    <tr>\n",
              "      <th>79691</th>\n",
              "      <td>32</td>\n",
              "      <td>3</td>\n",
              "      <td>10.0</td>\n",
              "    </tr>\n",
              "    <tr>\n",
              "      <th>79705</th>\n",
              "      <td>33</td>\n",
              "      <td>2</td>\n",
              "      <td>50.0</td>\n",
              "    </tr>\n",
              "    <tr>\n",
              "      <th>79708</th>\n",
              "      <td>33</td>\n",
              "      <td>2</td>\n",
              "      <td>50.0</td>\n",
              "    </tr>\n",
              "    <tr>\n",
              "      <th>79731</th>\n",
              "      <td>35</td>\n",
              "      <td>0</td>\n",
              "      <td>30.0</td>\n",
              "    </tr>\n",
              "    <tr>\n",
              "      <th>79732</th>\n",
              "      <td>35</td>\n",
              "      <td>0</td>\n",
              "      <td>30.0</td>\n",
              "    </tr>\n",
              "  </tbody>\n",
              "</table>\n",
              "<p>6207 rows × 3 columns</p>\n",
              "</div>"
            ],
            "text/plain": [
              "       cohort_identifier  lifetime  purchase_amount\n",
              "146                   31         0             10.0\n",
              "147                   31         0             50.0\n",
              "188                   31         0             10.0\n",
              "341                   31         0             50.0\n",
              "395                   31         0             50.0\n",
              "...                  ...       ...              ...\n",
              "79691                 32         3             10.0\n",
              "79705                 33         2             50.0\n",
              "79708                 33         2             50.0\n",
              "79731                 35         0             30.0\n",
              "79732                 35         0             30.0\n",
              "\n",
              "[6207 rows x 3 columns]"
            ]
          },
          "execution_count": 36,
          "metadata": {},
          "output_type": "execute_result"
        }
      ],
      "source": [
        "answer_7a"
      ]
    },
    {
      "cell_type": "code",
      "execution_count": null,
      "id": "a54533c2",
      "metadata": {
        "id": "a54533c2",
        "outputId": "4d77ad1a-be9e-4b07-eff0-f2b452fddb8e"
      },
      "outputs": [
        {
          "data": {
            "text/plain": [
              "cohort_identifier  lifetime\n",
              "31                 0           28.132911\n",
              "                   1           29.511494\n",
              "                   2           30.525000\n",
              "                   3           29.142857\n",
              "                   4           30.454545\n",
              "32                 0           30.222841\n",
              "                   1           29.773692\n",
              "                   2           29.928741\n",
              "                   3           29.528302\n",
              "33                 0           30.689655\n",
              "                   1           30.519663\n",
              "                   2           29.171975\n",
              "34                 0           30.776699\n",
              "                   1           30.929134\n",
              "35                 0           30.721925\n",
              "Name: purchase_amount, dtype: float64"
            ]
          },
          "execution_count": 37,
          "metadata": {},
          "output_type": "execute_result"
        }
      ],
      "source": [
        "answer_7 = answer_7a.groupby([answer_7a['cohort_identifier'], answer_7a['lifetime']])['purchase_amount'].mean()\n",
        "answer_7"
      ]
    },
    {
      "cell_type": "markdown",
      "id": "5de7793d",
      "metadata": {
        "id": "5de7793d"
      },
      "source": [
        "#  8- What is the 3-week ARPPU of a cohort with ID 31? Give the answer with a floating point number, rounded to 2 decimal places, inclusive."
      ]
    },
    {
      "cell_type": "code",
      "execution_count": null,
      "id": "61802942",
      "metadata": {
        "id": "61802942",
        "outputId": "771d7691-d084-4c68-baf9-030e2cbb444c"
      },
      "outputs": [
        {
          "data": {
            "text/plain": [
              "29.14"
            ]
          },
          "execution_count": 38,
          "metadata": {},
          "output_type": "execute_result"
        }
      ],
      "source": [
        "answer_8 = round(answer_7.iloc[3],2)\n",
        "answer_8"
      ]
    },
    {
      "cell_type": "code",
      "execution_count": null,
      "id": "a2f054a7",
      "metadata": {
        "id": "a2f054a7"
      },
      "outputs": [],
      "source": [
        "################################################################################################################################"
      ]
    },
    {
      "cell_type": "markdown",
      "id": "bcfe11dc",
      "metadata": {
        "id": "bcfe11dc"
      },
      "source": [
        "# 9 -What is the median time between user registration and first purchase? Give the answer in seconds (!) As an integer."
      ]
    },
    {
      "cell_type": "code",
      "execution_count": null,
      "id": "5b87247c",
      "metadata": {
        "id": "5b87247c",
        "outputId": "1de6fcfc-223d-4aec-9f5a-be6453ecedcc"
      },
      "outputs": [
        {
          "data": {
            "text/html": [
              "<div>\n",
              "<style scoped>\n",
              "    .dataframe tbody tr th:only-of-type {\n",
              "        vertical-align: middle;\n",
              "    }\n",
              "\n",
              "    .dataframe tbody tr th {\n",
              "        vertical-align: top;\n",
              "    }\n",
              "\n",
              "    .dataframe thead th {\n",
              "        text-align: right;\n",
              "    }\n",
              "</style>\n",
              "<table border=\"1\" class=\"dataframe\">\n",
              "  <thead>\n",
              "    <tr style=\"text-align: right;\">\n",
              "      <th></th>\n",
              "      <th>user_id</th>\n",
              "      <th>event_date</th>\n",
              "      <th>event_type</th>\n",
              "      <th>purchase_amount</th>\n",
              "      <th>week</th>\n",
              "      <th>cohort_identifier</th>\n",
              "      <th>lifetime</th>\n",
              "    </tr>\n",
              "  </thead>\n",
              "  <tbody>\n",
              "    <tr>\n",
              "      <th>0</th>\n",
              "      <td>c40e6a</td>\n",
              "      <td>2019-07-29 00:02:15</td>\n",
              "      <td>registration</td>\n",
              "      <td>NaN</td>\n",
              "      <td>31</td>\n",
              "      <td>31</td>\n",
              "      <td>0</td>\n",
              "    </tr>\n",
              "    <tr>\n",
              "      <th>1</th>\n",
              "      <td>a2b682</td>\n",
              "      <td>2019-07-29 00:04:46</td>\n",
              "      <td>registration</td>\n",
              "      <td>NaN</td>\n",
              "      <td>31</td>\n",
              "      <td>31</td>\n",
              "      <td>0</td>\n",
              "    </tr>\n",
              "    <tr>\n",
              "      <th>2</th>\n",
              "      <td>9ac888</td>\n",
              "      <td>2019-07-29 00:13:22</td>\n",
              "      <td>registration</td>\n",
              "      <td>NaN</td>\n",
              "      <td>31</td>\n",
              "      <td>31</td>\n",
              "      <td>0</td>\n",
              "    </tr>\n",
              "    <tr>\n",
              "      <th>3</th>\n",
              "      <td>93ff22</td>\n",
              "      <td>2019-07-29 00:16:47</td>\n",
              "      <td>registration</td>\n",
              "      <td>NaN</td>\n",
              "      <td>31</td>\n",
              "      <td>31</td>\n",
              "      <td>0</td>\n",
              "    </tr>\n",
              "    <tr>\n",
              "      <th>4</th>\n",
              "      <td>65ef85</td>\n",
              "      <td>2019-07-29 00:19:23</td>\n",
              "      <td>registration</td>\n",
              "      <td>NaN</td>\n",
              "      <td>31</td>\n",
              "      <td>31</td>\n",
              "      <td>0</td>\n",
              "    </tr>\n",
              "    <tr>\n",
              "      <th>...</th>\n",
              "      <td>...</td>\n",
              "      <td>...</td>\n",
              "      <td>...</td>\n",
              "      <td>...</td>\n",
              "      <td>...</td>\n",
              "      <td>...</td>\n",
              "      <td>...</td>\n",
              "    </tr>\n",
              "    <tr>\n",
              "      <th>79737</th>\n",
              "      <td>930c23</td>\n",
              "      <td>2019-09-01 23:57:41</td>\n",
              "      <td>simple_event</td>\n",
              "      <td>NaN</td>\n",
              "      <td>35</td>\n",
              "      <td>32</td>\n",
              "      <td>3</td>\n",
              "    </tr>\n",
              "    <tr>\n",
              "      <th>79738</th>\n",
              "      <td>a84999</td>\n",
              "      <td>2019-09-01 23:57:50</td>\n",
              "      <td>simple_event</td>\n",
              "      <td>NaN</td>\n",
              "      <td>35</td>\n",
              "      <td>33</td>\n",
              "      <td>2</td>\n",
              "    </tr>\n",
              "    <tr>\n",
              "      <th>79739</th>\n",
              "      <td>175e4d</td>\n",
              "      <td>2019-09-01 23:59:40</td>\n",
              "      <td>simple_event</td>\n",
              "      <td>NaN</td>\n",
              "      <td>35</td>\n",
              "      <td>32</td>\n",
              "      <td>3</td>\n",
              "    </tr>\n",
              "    <tr>\n",
              "      <th>79740</th>\n",
              "      <td>1c2210</td>\n",
              "      <td>2019-09-01 23:59:51</td>\n",
              "      <td>simple_event</td>\n",
              "      <td>NaN</td>\n",
              "      <td>35</td>\n",
              "      <td>33</td>\n",
              "      <td>2</td>\n",
              "    </tr>\n",
              "    <tr>\n",
              "      <th>79741</th>\n",
              "      <td>d799dc</td>\n",
              "      <td>2019-09-01 23:59:54</td>\n",
              "      <td>simple_event</td>\n",
              "      <td>NaN</td>\n",
              "      <td>35</td>\n",
              "      <td>35</td>\n",
              "      <td>0</td>\n",
              "    </tr>\n",
              "  </tbody>\n",
              "</table>\n",
              "<p>79742 rows × 7 columns</p>\n",
              "</div>"
            ],
            "text/plain": [
              "      user_id          event_date    event_type  purchase_amount  week  \\\n",
              "0      c40e6a 2019-07-29 00:02:15  registration              NaN    31   \n",
              "1      a2b682 2019-07-29 00:04:46  registration              NaN    31   \n",
              "2      9ac888 2019-07-29 00:13:22  registration              NaN    31   \n",
              "3      93ff22 2019-07-29 00:16:47  registration              NaN    31   \n",
              "4      65ef85 2019-07-29 00:19:23  registration              NaN    31   \n",
              "...       ...                 ...           ...              ...   ...   \n",
              "79737  930c23 2019-09-01 23:57:41  simple_event              NaN    35   \n",
              "79738  a84999 2019-09-01 23:57:50  simple_event              NaN    35   \n",
              "79739  175e4d 2019-09-01 23:59:40  simple_event              NaN    35   \n",
              "79740  1c2210 2019-09-01 23:59:51  simple_event              NaN    35   \n",
              "79741  d799dc 2019-09-01 23:59:54  simple_event              NaN    35   \n",
              "\n",
              "       cohort_identifier  lifetime  \n",
              "0                     31         0  \n",
              "1                     31         0  \n",
              "2                     31         0  \n",
              "3                     31         0  \n",
              "4                     31         0  \n",
              "...                  ...       ...  \n",
              "79737                 32         3  \n",
              "79738                 33         2  \n",
              "79739                 32         3  \n",
              "79740                 33         2  \n",
              "79741                 35         0  \n",
              "\n",
              "[79742 rows x 7 columns]"
            ]
          },
          "execution_count": 40,
          "metadata": {},
          "output_type": "execute_result"
        }
      ],
      "source": [
        "event_data"
      ]
    },
    {
      "cell_type": "code",
      "execution_count": null,
      "id": "bb27c5bc",
      "metadata": {
        "id": "bb27c5bc",
        "outputId": "a6ef7d97-6ab2-455d-bade-10a346b000b5"
      },
      "outputs": [
        {
          "data": {
            "text/plain": [
              "simple_event    63539\n",
              "registration     9996\n",
              "purchase         6207\n",
              "Name: event_type, dtype: int64"
            ]
          },
          "execution_count": 41,
          "metadata": {},
          "output_type": "execute_result"
        }
      ],
      "source": [
        "event_data['event_type'].value_counts()"
      ]
    },
    {
      "cell_type": "code",
      "execution_count": null,
      "id": "31f5f3a2",
      "metadata": {
        "id": "31f5f3a2",
        "outputId": "3af0bd89-0c63-4e3b-ba35-4e0c70e6b12c"
      },
      "outputs": [
        {
          "data": {
            "text/html": [
              "<div>\n",
              "<style scoped>\n",
              "    .dataframe tbody tr th:only-of-type {\n",
              "        vertical-align: middle;\n",
              "    }\n",
              "\n",
              "    .dataframe tbody tr th {\n",
              "        vertical-align: top;\n",
              "    }\n",
              "\n",
              "    .dataframe thead th {\n",
              "        text-align: right;\n",
              "    }\n",
              "</style>\n",
              "<table border=\"1\" class=\"dataframe\">\n",
              "  <thead>\n",
              "    <tr style=\"text-align: right;\">\n",
              "      <th></th>\n",
              "      <th>user_id</th>\n",
              "      <th>event_type</th>\n",
              "      <th>event_date</th>\n",
              "    </tr>\n",
              "  </thead>\n",
              "  <tbody>\n",
              "    <tr>\n",
              "      <th>0</th>\n",
              "      <td>c40e6a</td>\n",
              "      <td>registration</td>\n",
              "      <td>2019-07-29 00:02:15</td>\n",
              "    </tr>\n",
              "    <tr>\n",
              "      <th>1</th>\n",
              "      <td>a2b682</td>\n",
              "      <td>registration</td>\n",
              "      <td>2019-07-29 00:04:46</td>\n",
              "    </tr>\n",
              "    <tr>\n",
              "      <th>2</th>\n",
              "      <td>9ac888</td>\n",
              "      <td>registration</td>\n",
              "      <td>2019-07-29 00:13:22</td>\n",
              "    </tr>\n",
              "    <tr>\n",
              "      <th>3</th>\n",
              "      <td>93ff22</td>\n",
              "      <td>registration</td>\n",
              "      <td>2019-07-29 00:16:47</td>\n",
              "    </tr>\n",
              "    <tr>\n",
              "      <th>4</th>\n",
              "      <td>65ef85</td>\n",
              "      <td>registration</td>\n",
              "      <td>2019-07-29 00:19:23</td>\n",
              "    </tr>\n",
              "    <tr>\n",
              "      <th>...</th>\n",
              "      <td>...</td>\n",
              "      <td>...</td>\n",
              "      <td>...</td>\n",
              "    </tr>\n",
              "    <tr>\n",
              "      <th>79737</th>\n",
              "      <td>930c23</td>\n",
              "      <td>simple_event</td>\n",
              "      <td>2019-09-01 23:57:41</td>\n",
              "    </tr>\n",
              "    <tr>\n",
              "      <th>79738</th>\n",
              "      <td>a84999</td>\n",
              "      <td>simple_event</td>\n",
              "      <td>2019-09-01 23:57:50</td>\n",
              "    </tr>\n",
              "    <tr>\n",
              "      <th>79739</th>\n",
              "      <td>175e4d</td>\n",
              "      <td>simple_event</td>\n",
              "      <td>2019-09-01 23:59:40</td>\n",
              "    </tr>\n",
              "    <tr>\n",
              "      <th>79740</th>\n",
              "      <td>1c2210</td>\n",
              "      <td>simple_event</td>\n",
              "      <td>2019-09-01 23:59:51</td>\n",
              "    </tr>\n",
              "    <tr>\n",
              "      <th>79741</th>\n",
              "      <td>d799dc</td>\n",
              "      <td>simple_event</td>\n",
              "      <td>2019-09-01 23:59:54</td>\n",
              "    </tr>\n",
              "  </tbody>\n",
              "</table>\n",
              "<p>79742 rows × 3 columns</p>\n",
              "</div>"
            ],
            "text/plain": [
              "      user_id    event_type          event_date\n",
              "0      c40e6a  registration 2019-07-29 00:02:15\n",
              "1      a2b682  registration 2019-07-29 00:04:46\n",
              "2      9ac888  registration 2019-07-29 00:13:22\n",
              "3      93ff22  registration 2019-07-29 00:16:47\n",
              "4      65ef85  registration 2019-07-29 00:19:23\n",
              "...       ...           ...                 ...\n",
              "79737  930c23  simple_event 2019-09-01 23:57:41\n",
              "79738  a84999  simple_event 2019-09-01 23:57:50\n",
              "79739  175e4d  simple_event 2019-09-01 23:59:40\n",
              "79740  1c2210  simple_event 2019-09-01 23:59:51\n",
              "79741  d799dc  simple_event 2019-09-01 23:59:54\n",
              "\n",
              "[79742 rows x 3 columns]"
            ]
          },
          "execution_count": 42,
          "metadata": {},
          "output_type": "execute_result"
        }
      ],
      "source": [
        "answer_9a = event_data[['user_id','event_type','event_date']]\n",
        "answer_9a "
      ]
    },
    {
      "cell_type": "code",
      "execution_count": null,
      "id": "1fe5bceb",
      "metadata": {
        "id": "1fe5bceb",
        "outputId": "0244a433-ab40-47f1-8026-90d5fb946feb"
      },
      "outputs": [
        {
          "data": {
            "text/plain": [
              "user_id               object\n",
              "event_type            object\n",
              "event_date    datetime64[ns]\n",
              "dtype: object"
            ]
          },
          "execution_count": 43,
          "metadata": {},
          "output_type": "execute_result"
        }
      ],
      "source": [
        "answer_9a.dtypes"
      ]
    },
    {
      "cell_type": "code",
      "execution_count": null,
      "id": "b660508a",
      "metadata": {
        "id": "b660508a",
        "outputId": "e2bfd9a7-6731-447f-f507-1c074bc6594a"
      },
      "outputs": [
        {
          "data": {
            "text/html": [
              "<div>\n",
              "<style scoped>\n",
              "    .dataframe tbody tr th:only-of-type {\n",
              "        vertical-align: middle;\n",
              "    }\n",
              "\n",
              "    .dataframe tbody tr th {\n",
              "        vertical-align: top;\n",
              "    }\n",
              "\n",
              "    .dataframe thead th {\n",
              "        text-align: right;\n",
              "    }\n",
              "</style>\n",
              "<table border=\"1\" class=\"dataframe\">\n",
              "  <thead>\n",
              "    <tr style=\"text-align: right;\">\n",
              "      <th></th>\n",
              "      <th>user_id</th>\n",
              "      <th>event_type</th>\n",
              "      <th>event_date</th>\n",
              "    </tr>\n",
              "  </thead>\n",
              "  <tbody>\n",
              "    <tr>\n",
              "      <th>0</th>\n",
              "      <td>c40e6a</td>\n",
              "      <td>registration</td>\n",
              "      <td>2019-07-29 00:02:15</td>\n",
              "    </tr>\n",
              "    <tr>\n",
              "      <th>1</th>\n",
              "      <td>a2b682</td>\n",
              "      <td>registration</td>\n",
              "      <td>2019-07-29 00:04:46</td>\n",
              "    </tr>\n",
              "    <tr>\n",
              "      <th>2</th>\n",
              "      <td>9ac888</td>\n",
              "      <td>registration</td>\n",
              "      <td>2019-07-29 00:13:22</td>\n",
              "    </tr>\n",
              "    <tr>\n",
              "      <th>3</th>\n",
              "      <td>93ff22</td>\n",
              "      <td>registration</td>\n",
              "      <td>2019-07-29 00:16:47</td>\n",
              "    </tr>\n",
              "    <tr>\n",
              "      <th>4</th>\n",
              "      <td>65ef85</td>\n",
              "      <td>registration</td>\n",
              "      <td>2019-07-29 00:19:23</td>\n",
              "    </tr>\n",
              "    <tr>\n",
              "      <th>...</th>\n",
              "      <td>...</td>\n",
              "      <td>...</td>\n",
              "      <td>...</td>\n",
              "    </tr>\n",
              "    <tr>\n",
              "      <th>79710</th>\n",
              "      <td>fb0e00</td>\n",
              "      <td>registration</td>\n",
              "      <td>2019-09-01 23:41:25</td>\n",
              "    </tr>\n",
              "    <tr>\n",
              "      <th>79712</th>\n",
              "      <td>46b4f8</td>\n",
              "      <td>registration</td>\n",
              "      <td>2019-09-01 23:41:57</td>\n",
              "    </tr>\n",
              "    <tr>\n",
              "      <th>79716</th>\n",
              "      <td>48b765</td>\n",
              "      <td>registration</td>\n",
              "      <td>2019-09-01 23:45:22</td>\n",
              "    </tr>\n",
              "    <tr>\n",
              "      <th>79731</th>\n",
              "      <td>0a5860</td>\n",
              "      <td>purchase</td>\n",
              "      <td>2019-09-01 23:54:50</td>\n",
              "    </tr>\n",
              "    <tr>\n",
              "      <th>79732</th>\n",
              "      <td>27583e</td>\n",
              "      <td>purchase</td>\n",
              "      <td>2019-09-01 23:54:55</td>\n",
              "    </tr>\n",
              "  </tbody>\n",
              "</table>\n",
              "<p>16203 rows × 3 columns</p>\n",
              "</div>"
            ],
            "text/plain": [
              "      user_id    event_type          event_date\n",
              "0      c40e6a  registration 2019-07-29 00:02:15\n",
              "1      a2b682  registration 2019-07-29 00:04:46\n",
              "2      9ac888  registration 2019-07-29 00:13:22\n",
              "3      93ff22  registration 2019-07-29 00:16:47\n",
              "4      65ef85  registration 2019-07-29 00:19:23\n",
              "...       ...           ...                 ...\n",
              "79710  fb0e00  registration 2019-09-01 23:41:25\n",
              "79712  46b4f8  registration 2019-09-01 23:41:57\n",
              "79716  48b765  registration 2019-09-01 23:45:22\n",
              "79731  0a5860      purchase 2019-09-01 23:54:50\n",
              "79732  27583e      purchase 2019-09-01 23:54:55\n",
              "\n",
              "[16203 rows x 3 columns]"
            ]
          },
          "execution_count": 44,
          "metadata": {},
          "output_type": "execute_result"
        }
      ],
      "source": [
        "answer_9b = answer_9a[answer_9a[\"event_type\"].isin(['registration', 'purchase'])]\n",
        "answer_9b "
      ]
    },
    {
      "cell_type": "code",
      "execution_count": null,
      "id": "3a879b9b",
      "metadata": {
        "id": "3a879b9b",
        "outputId": "e3a792d2-301d-42ea-ceaf-f5b9f642912b"
      },
      "outputs": [
        {
          "data": {
            "text/plain": [
              "user_id        9996\n",
              "event_type        2\n",
              "event_date    16166\n",
              "dtype: int64"
            ]
          },
          "execution_count": 45,
          "metadata": {},
          "output_type": "execute_result"
        }
      ],
      "source": [
        "answer_9b.nunique()"
      ]
    },
    {
      "cell_type": "code",
      "execution_count": null,
      "id": "1fd71924",
      "metadata": {
        "id": "1fd71924",
        "outputId": "cefc40b5-a6e5-4a03-f720-4862a2f06070"
      },
      "outputs": [
        {
          "data": {
            "text/plain": [
              "48f5ff    6\n",
              "413bfa    6\n",
              "d7f3c0    6\n",
              "6cdf18    6\n",
              "3ba705    6\n",
              "         ..\n",
              "eb75a8    1\n",
              "6723a1    1\n",
              "e16f9f    1\n",
              "4eeabf    1\n",
              "48b765    1\n",
              "Name: user_id, Length: 9996, dtype: int64"
            ]
          },
          "execution_count": 46,
          "metadata": {},
          "output_type": "execute_result"
        }
      ],
      "source": [
        "answer_9b['user_id'].value_counts()"
      ]
    },
    {
      "cell_type": "code",
      "execution_count": null,
      "id": "29dc3472",
      "metadata": {
        "id": "29dc3472",
        "outputId": "fbe5b956-e62b-474a-fc1f-7e601d1e949f"
      },
      "outputs": [
        {
          "data": {
            "text/html": [
              "<div>\n",
              "<style scoped>\n",
              "    .dataframe tbody tr th:only-of-type {\n",
              "        vertical-align: middle;\n",
              "    }\n",
              "\n",
              "    .dataframe tbody tr th {\n",
              "        vertical-align: top;\n",
              "    }\n",
              "\n",
              "    .dataframe thead th {\n",
              "        text-align: right;\n",
              "    }\n",
              "</style>\n",
              "<table border=\"1\" class=\"dataframe\">\n",
              "  <thead>\n",
              "    <tr style=\"text-align: right;\">\n",
              "      <th></th>\n",
              "      <th>user_id</th>\n",
              "      <th>event_type</th>\n",
              "      <th>event_date</th>\n",
              "    </tr>\n",
              "  </thead>\n",
              "  <tbody>\n",
              "    <tr>\n",
              "      <th>0</th>\n",
              "      <td>c40e6a</td>\n",
              "      <td>registration</td>\n",
              "      <td>2019-07-29 00:02:15</td>\n",
              "    </tr>\n",
              "    <tr>\n",
              "      <th>1</th>\n",
              "      <td>a2b682</td>\n",
              "      <td>registration</td>\n",
              "      <td>2019-07-29 00:04:46</td>\n",
              "    </tr>\n",
              "    <tr>\n",
              "      <th>2</th>\n",
              "      <td>9ac888</td>\n",
              "      <td>registration</td>\n",
              "      <td>2019-07-29 00:13:22</td>\n",
              "    </tr>\n",
              "    <tr>\n",
              "      <th>3</th>\n",
              "      <td>93ff22</td>\n",
              "      <td>registration</td>\n",
              "      <td>2019-07-29 00:16:47</td>\n",
              "    </tr>\n",
              "    <tr>\n",
              "      <th>4</th>\n",
              "      <td>65ef85</td>\n",
              "      <td>registration</td>\n",
              "      <td>2019-07-29 00:19:23</td>\n",
              "    </tr>\n",
              "    <tr>\n",
              "      <th>...</th>\n",
              "      <td>...</td>\n",
              "      <td>...</td>\n",
              "      <td>...</td>\n",
              "    </tr>\n",
              "    <tr>\n",
              "      <th>79710</th>\n",
              "      <td>fb0e00</td>\n",
              "      <td>registration</td>\n",
              "      <td>2019-09-01 23:41:25</td>\n",
              "    </tr>\n",
              "    <tr>\n",
              "      <th>79712</th>\n",
              "      <td>46b4f8</td>\n",
              "      <td>registration</td>\n",
              "      <td>2019-09-01 23:41:57</td>\n",
              "    </tr>\n",
              "    <tr>\n",
              "      <th>79716</th>\n",
              "      <td>48b765</td>\n",
              "      <td>registration</td>\n",
              "      <td>2019-09-01 23:45:22</td>\n",
              "    </tr>\n",
              "    <tr>\n",
              "      <th>79731</th>\n",
              "      <td>0a5860</td>\n",
              "      <td>purchase</td>\n",
              "      <td>2019-09-01 23:54:50</td>\n",
              "    </tr>\n",
              "    <tr>\n",
              "      <th>79732</th>\n",
              "      <td>27583e</td>\n",
              "      <td>purchase</td>\n",
              "      <td>2019-09-01 23:54:55</td>\n",
              "    </tr>\n",
              "  </tbody>\n",
              "</table>\n",
              "<p>16203 rows × 3 columns</p>\n",
              "</div>"
            ],
            "text/plain": [
              "      user_id    event_type          event_date\n",
              "0      c40e6a  registration 2019-07-29 00:02:15\n",
              "1      a2b682  registration 2019-07-29 00:04:46\n",
              "2      9ac888  registration 2019-07-29 00:13:22\n",
              "3      93ff22  registration 2019-07-29 00:16:47\n",
              "4      65ef85  registration 2019-07-29 00:19:23\n",
              "...       ...           ...                 ...\n",
              "79710  fb0e00  registration 2019-09-01 23:41:25\n",
              "79712  46b4f8  registration 2019-09-01 23:41:57\n",
              "79716  48b765  registration 2019-09-01 23:45:22\n",
              "79731  0a5860      purchase 2019-09-01 23:54:50\n",
              "79732  27583e      purchase 2019-09-01 23:54:55\n",
              "\n",
              "[16203 rows x 3 columns]"
            ]
          },
          "execution_count": 47,
          "metadata": {},
          "output_type": "execute_result"
        }
      ],
      "source": [
        "answer_9b "
      ]
    },
    {
      "cell_type": "code",
      "execution_count": null,
      "id": "4155a061",
      "metadata": {
        "id": "4155a061",
        "outputId": "55e5446c-1234-4891-a9df-40802f2166fe"
      },
      "outputs": [
        {
          "name": "stdout",
          "output_type": "stream",
          "text": [
            "      user_id    event_type          event_date\n",
            "0      c40e6a  registration 2019-07-29 00:02:15\n",
            "1      a2b682  registration 2019-07-29 00:04:46\n",
            "2      9ac888  registration 2019-07-29 00:13:22\n",
            "3      93ff22  registration 2019-07-29 00:16:47\n",
            "4      65ef85  registration 2019-07-29 00:19:23\n",
            "...       ...           ...                 ...\n",
            "79691  7f27ee      purchase 2019-09-01 23:31:37\n",
            "79705  e1d4ac      purchase 2019-09-01 23:39:00\n",
            "79708  f1b677      purchase 2019-09-01 23:39:49\n",
            "79731  0a5860      purchase 2019-09-01 23:54:50\n",
            "79732  27583e      purchase 2019-09-01 23:54:55\n",
            "\n",
            "[10490 rows x 3 columns]\n"
          ]
        }
      ],
      "source": [
        "answer_9b  = answer_9b[answer_9b.duplicated(subset=['user_id'], keep=False)]\n",
        "print(answer_9b)"
      ]
    },
    {
      "cell_type": "code",
      "execution_count": null,
      "id": "259609aa",
      "metadata": {
        "id": "259609aa",
        "outputId": "cccade57-7b16-4a42-8fe1-33c72f04eef3"
      },
      "outputs": [
        {
          "data": {
            "text/plain": [
              "413bfa    6\n",
              "fad827    6\n",
              "db55cd    6\n",
              "b15458    6\n",
              "52e0f1    6\n",
              "         ..\n",
              "5bd388    2\n",
              "116382    2\n",
              "c65385    2\n",
              "3876fe    2\n",
              "1c3e5e    2\n",
              "Name: user_id, Length: 4283, dtype: int64"
            ]
          },
          "execution_count": 49,
          "metadata": {},
          "output_type": "execute_result"
        }
      ],
      "source": [
        "answer_9b['user_id'].value_counts()"
      ]
    },
    {
      "cell_type": "code",
      "execution_count": null,
      "id": "2baac3cb",
      "metadata": {
        "id": "2baac3cb",
        "outputId": "b1f5d150-805d-4712-af5f-9c4d688bacbf"
      },
      "outputs": [
        {
          "data": {
            "text/html": [
              "<div>\n",
              "<style scoped>\n",
              "    .dataframe tbody tr th:only-of-type {\n",
              "        vertical-align: middle;\n",
              "    }\n",
              "\n",
              "    .dataframe tbody tr th {\n",
              "        vertical-align: top;\n",
              "    }\n",
              "\n",
              "    .dataframe thead th {\n",
              "        text-align: right;\n",
              "    }\n",
              "</style>\n",
              "<table border=\"1\" class=\"dataframe\">\n",
              "  <thead>\n",
              "    <tr style=\"text-align: right;\">\n",
              "      <th></th>\n",
              "      <th>user_id</th>\n",
              "      <th>event_type</th>\n",
              "      <th>event_date</th>\n",
              "    </tr>\n",
              "  </thead>\n",
              "  <tbody>\n",
              "    <tr>\n",
              "      <th>0</th>\n",
              "      <td>c40e6a</td>\n",
              "      <td>registration</td>\n",
              "      <td>2019-07-29 00:02:15</td>\n",
              "    </tr>\n",
              "    <tr>\n",
              "      <th>1</th>\n",
              "      <td>a2b682</td>\n",
              "      <td>registration</td>\n",
              "      <td>2019-07-29 00:04:46</td>\n",
              "    </tr>\n",
              "    <tr>\n",
              "      <th>2</th>\n",
              "      <td>9ac888</td>\n",
              "      <td>registration</td>\n",
              "      <td>2019-07-29 00:13:22</td>\n",
              "    </tr>\n",
              "    <tr>\n",
              "      <th>3</th>\n",
              "      <td>93ff22</td>\n",
              "      <td>registration</td>\n",
              "      <td>2019-07-29 00:16:47</td>\n",
              "    </tr>\n",
              "    <tr>\n",
              "      <th>4</th>\n",
              "      <td>65ef85</td>\n",
              "      <td>registration</td>\n",
              "      <td>2019-07-29 00:19:23</td>\n",
              "    </tr>\n",
              "    <tr>\n",
              "      <th>...</th>\n",
              "      <td>...</td>\n",
              "      <td>...</td>\n",
              "      <td>...</td>\n",
              "    </tr>\n",
              "    <tr>\n",
              "      <th>79691</th>\n",
              "      <td>7f27ee</td>\n",
              "      <td>purchase</td>\n",
              "      <td>2019-09-01 23:31:37</td>\n",
              "    </tr>\n",
              "    <tr>\n",
              "      <th>79705</th>\n",
              "      <td>e1d4ac</td>\n",
              "      <td>purchase</td>\n",
              "      <td>2019-09-01 23:39:00</td>\n",
              "    </tr>\n",
              "    <tr>\n",
              "      <th>79708</th>\n",
              "      <td>f1b677</td>\n",
              "      <td>purchase</td>\n",
              "      <td>2019-09-01 23:39:49</td>\n",
              "    </tr>\n",
              "    <tr>\n",
              "      <th>79731</th>\n",
              "      <td>0a5860</td>\n",
              "      <td>purchase</td>\n",
              "      <td>2019-09-01 23:54:50</td>\n",
              "    </tr>\n",
              "    <tr>\n",
              "      <th>79732</th>\n",
              "      <td>27583e</td>\n",
              "      <td>purchase</td>\n",
              "      <td>2019-09-01 23:54:55</td>\n",
              "    </tr>\n",
              "  </tbody>\n",
              "</table>\n",
              "<p>10490 rows × 3 columns</p>\n",
              "</div>"
            ],
            "text/plain": [
              "      user_id    event_type          event_date\n",
              "0      c40e6a  registration 2019-07-29 00:02:15\n",
              "1      a2b682  registration 2019-07-29 00:04:46\n",
              "2      9ac888  registration 2019-07-29 00:13:22\n",
              "3      93ff22  registration 2019-07-29 00:16:47\n",
              "4      65ef85  registration 2019-07-29 00:19:23\n",
              "...       ...           ...                 ...\n",
              "79691  7f27ee      purchase 2019-09-01 23:31:37\n",
              "79705  e1d4ac      purchase 2019-09-01 23:39:00\n",
              "79708  f1b677      purchase 2019-09-01 23:39:49\n",
              "79731  0a5860      purchase 2019-09-01 23:54:50\n",
              "79732  27583e      purchase 2019-09-01 23:54:55\n",
              "\n",
              "[10490 rows x 3 columns]"
            ]
          },
          "execution_count": 50,
          "metadata": {},
          "output_type": "execute_result"
        }
      ],
      "source": [
        "answer_9b"
      ]
    },
    {
      "cell_type": "code",
      "execution_count": null,
      "id": "d55822bb",
      "metadata": {
        "id": "d55822bb",
        "outputId": "e317712c-bc12-4210-edf1-be9828b917cb"
      },
      "outputs": [
        {
          "data": {
            "text/html": [
              "<div>\n",
              "<style scoped>\n",
              "    .dataframe tbody tr th:only-of-type {\n",
              "        vertical-align: middle;\n",
              "    }\n",
              "\n",
              "    .dataframe tbody tr th {\n",
              "        vertical-align: top;\n",
              "    }\n",
              "\n",
              "    .dataframe thead th {\n",
              "        text-align: right;\n",
              "    }\n",
              "</style>\n",
              "<table border=\"1\" class=\"dataframe\">\n",
              "  <thead>\n",
              "    <tr style=\"text-align: right;\">\n",
              "      <th></th>\n",
              "      <th>user_id</th>\n",
              "      <th>event_type</th>\n",
              "      <th>event_date</th>\n",
              "    </tr>\n",
              "  </thead>\n",
              "  <tbody>\n",
              "    <tr>\n",
              "      <th>36262</th>\n",
              "      <td>00049f</td>\n",
              "      <td>purchase</td>\n",
              "      <td>2019-08-18 17:31:56</td>\n",
              "    </tr>\n",
              "    <tr>\n",
              "      <th>36125</th>\n",
              "      <td>00049f</td>\n",
              "      <td>registration</td>\n",
              "      <td>2019-08-18 16:21:02</td>\n",
              "    </tr>\n",
              "    <tr>\n",
              "      <th>25016</th>\n",
              "      <td>00082c</td>\n",
              "      <td>purchase</td>\n",
              "      <td>2019-08-14 12:57:41</td>\n",
              "    </tr>\n",
              "    <tr>\n",
              "      <th>4090</th>\n",
              "      <td>00082c</td>\n",
              "      <td>registration</td>\n",
              "      <td>2019-08-03 17:37:37</td>\n",
              "    </tr>\n",
              "    <tr>\n",
              "      <th>59475</th>\n",
              "      <td>001d5d</td>\n",
              "      <td>purchase</td>\n",
              "      <td>2019-08-26 13:03:22</td>\n",
              "    </tr>\n",
              "    <tr>\n",
              "      <th>...</th>\n",
              "      <td>...</td>\n",
              "      <td>...</td>\n",
              "      <td>...</td>\n",
              "    </tr>\n",
              "    <tr>\n",
              "      <th>13184</th>\n",
              "      <td>ffc66a</td>\n",
              "      <td>registration</td>\n",
              "      <td>2019-08-09 07:49:11</td>\n",
              "    </tr>\n",
              "    <tr>\n",
              "      <th>13851</th>\n",
              "      <td>ffc88b</td>\n",
              "      <td>purchase</td>\n",
              "      <td>2019-08-09 15:36:48</td>\n",
              "    </tr>\n",
              "    <tr>\n",
              "      <th>25</th>\n",
              "      <td>ffc88b</td>\n",
              "      <td>registration</td>\n",
              "      <td>2019-07-29 02:27:49</td>\n",
              "    </tr>\n",
              "    <tr>\n",
              "      <th>49705</th>\n",
              "      <td>fff4aa</td>\n",
              "      <td>purchase</td>\n",
              "      <td>2019-08-23 08:26:15</td>\n",
              "    </tr>\n",
              "    <tr>\n",
              "      <th>12502</th>\n",
              "      <td>fff4aa</td>\n",
              "      <td>registration</td>\n",
              "      <td>2019-08-08 23:49:26</td>\n",
              "    </tr>\n",
              "  </tbody>\n",
              "</table>\n",
              "<p>10490 rows × 3 columns</p>\n",
              "</div>"
            ],
            "text/plain": [
              "      user_id    event_type          event_date\n",
              "36262  00049f      purchase 2019-08-18 17:31:56\n",
              "36125  00049f  registration 2019-08-18 16:21:02\n",
              "25016  00082c      purchase 2019-08-14 12:57:41\n",
              "4090   00082c  registration 2019-08-03 17:37:37\n",
              "59475  001d5d      purchase 2019-08-26 13:03:22\n",
              "...       ...           ...                 ...\n",
              "13184  ffc66a  registration 2019-08-09 07:49:11\n",
              "13851  ffc88b      purchase 2019-08-09 15:36:48\n",
              "25     ffc88b  registration 2019-07-29 02:27:49\n",
              "49705  fff4aa      purchase 2019-08-23 08:26:15\n",
              "12502  fff4aa  registration 2019-08-08 23:49:26\n",
              "\n",
              "[10490 rows x 3 columns]"
            ]
          },
          "execution_count": 51,
          "metadata": {},
          "output_type": "execute_result"
        }
      ],
      "source": [
        "answer_9b.sort_values(['user_id','event_type'])"
      ]
    },
    {
      "cell_type": "code",
      "execution_count": null,
      "id": "dfaea029",
      "metadata": {
        "id": "dfaea029",
        "outputId": "18c9e646-a716-49a6-e060-1b953fadbed2"
      },
      "outputs": [
        {
          "data": {
            "text/plain": [
              "user_id  event_type  \n",
              "00049f   purchase       2019-08-18 17:31:56\n",
              "         registration   2019-08-18 16:21:02\n",
              "00082c   purchase       2019-08-14 12:57:41\n",
              "         registration   2019-08-03 17:37:37\n",
              "001d5d   purchase       2019-08-26 13:03:22\n",
              "                                ...        \n",
              "ffc66a   registration   2019-08-09 07:49:11\n",
              "ffc88b   purchase       2019-08-09 15:36:48\n",
              "         registration   2019-07-29 02:27:49\n",
              "fff4aa   purchase       2019-08-23 08:26:15\n",
              "         registration   2019-08-08 23:49:26\n",
              "Name: event_date, Length: 8566, dtype: datetime64[ns]"
            ]
          },
          "execution_count": 52,
          "metadata": {},
          "output_type": "execute_result"
        }
      ],
      "source": [
        "answer_9b = answer_9b.groupby([answer_9b['user_id'], answer_9b['event_type']])['event_date'].median()\n",
        "answer_9b"
      ]
    },
    {
      "cell_type": "code",
      "execution_count": null,
      "id": "0c756353",
      "metadata": {
        "scrolled": true,
        "id": "0c756353",
        "outputId": "3056a3dc-563f-4d09-a944-d747ccc81be6"
      },
      "outputs": [
        {
          "name": "stdout",
          "output_type": "stream",
          "text": [
            "user_id  event_type  \n",
            "00049f   purchase                    NaT\n",
            "         registration    0 days 01:10:54\n",
            "00082c   purchase        4 days 03:23:21\n",
            "         registration   10 days 19:20:04\n",
            "001d5d   purchase       22 days 19:25:45\n",
            "                              ...       \n",
            "ffc66a   registration    6 days 22:15:54\n",
            "ffc88b   purchase        0 days 07:47:37\n",
            "         registration   11 days 13:08:59\n",
            "fff4aa   purchase       25 days 05:58:26\n",
            "         registration   14 days 08:36:49\n",
            "Name: event_date, Length: 8566, dtype: timedelta64[ns]\n"
          ]
        }
      ],
      "source": [
        "# Calculate the difference between rows - periods = 1\n",
        "difference = answer_9b.diff(periods=1).abs()\n",
        "print(difference)"
      ]
    },
    {
      "cell_type": "code",
      "execution_count": null,
      "id": "bf527f4b",
      "metadata": {
        "id": "bf527f4b",
        "outputId": "a6a10d81-4cc2-475a-a65b-156f8e6c9b82"
      },
      "outputs": [
        {
          "data": {
            "text/plain": [
              "690955"
            ]
          },
          "execution_count": 54,
          "metadata": {},
          "output_type": "execute_result"
        }
      ],
      "source": [
        "answer_9 = int(difference.median().total_seconds())\n",
        "answer_9"
      ]
    }
  ],
  "metadata": {
    "kernelspec": {
      "display_name": "Python 3 (ipykernel)",
      "language": "python",
      "name": "python3"
    },
    "language_info": {
      "codemirror_mode": {
        "name": "ipython",
        "version": 3
      },
      "file_extension": ".py",
      "mimetype": "text/x-python",
      "name": "python",
      "nbconvert_exporter": "python",
      "pygments_lexer": "ipython3",
      "version": "3.9.7"
    },
    "colab": {
      "provenance": []
    }
  },
  "nbformat": 4,
  "nbformat_minor": 5
}